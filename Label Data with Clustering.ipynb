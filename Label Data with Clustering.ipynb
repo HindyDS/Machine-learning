{
 "cells": [
  {
   "cell_type": "code",
   "execution_count": 1,
   "id": "6621c4c4",
   "metadata": {},
   "outputs": [],
   "source": [
    "import pandas as pd\n",
    "import matplotlib.pyplot as plt\n",
    "import seaborn as sns"
   ]
  },
  {
   "cell_type": "code",
   "execution_count": 2,
   "id": "fee65916",
   "metadata": {},
   "outputs": [],
   "source": [
    "df = pd.read_csv('drug200.csv')"
   ]
  },
  {
   "cell_type": "code",
   "execution_count": 3,
   "id": "f98d02ce",
   "metadata": {},
   "outputs": [
    {
     "name": "stdout",
     "output_type": "stream",
     "text": [
      "<class 'pandas.core.frame.DataFrame'>\n",
      "RangeIndex: 200 entries, 0 to 199\n",
      "Data columns (total 6 columns):\n",
      " #   Column       Non-Null Count  Dtype  \n",
      "---  ------       --------------  -----  \n",
      " 0   Age          200 non-null    int64  \n",
      " 1   Sex          200 non-null    object \n",
      " 2   BP           200 non-null    object \n",
      " 3   Cholesterol  200 non-null    object \n",
      " 4   Na_to_K      200 non-null    float64\n",
      " 5   Drug         200 non-null    object \n",
      "dtypes: float64(1), int64(1), object(4)\n",
      "memory usage: 9.5+ KB\n"
     ]
    }
   ],
   "source": [
    "df.info()"
   ]
  },
  {
   "cell_type": "code",
   "execution_count": 4,
   "id": "13b91fda",
   "metadata": {},
   "outputs": [
    {
     "data": {
      "text/plain": [
       "Age            0\n",
       "Sex            0\n",
       "BP             0\n",
       "Cholesterol    0\n",
       "Na_to_K        0\n",
       "Drug           0\n",
       "dtype: int64"
      ]
     },
     "execution_count": 4,
     "metadata": {},
     "output_type": "execute_result"
    }
   ],
   "source": [
    "df.isnull().sum()"
   ]
  },
  {
   "cell_type": "code",
   "execution_count": 5,
   "id": "6ac6e62a",
   "metadata": {},
   "outputs": [
    {
     "data": {
      "text/html": [
       "<div>\n",
       "<style scoped>\n",
       "    .dataframe tbody tr th:only-of-type {\n",
       "        vertical-align: middle;\n",
       "    }\n",
       "\n",
       "    .dataframe tbody tr th {\n",
       "        vertical-align: top;\n",
       "    }\n",
       "\n",
       "    .dataframe thead th {\n",
       "        text-align: right;\n",
       "    }\n",
       "</style>\n",
       "<table border=\"1\" class=\"dataframe\">\n",
       "  <thead>\n",
       "    <tr style=\"text-align: right;\">\n",
       "      <th></th>\n",
       "      <th>Age</th>\n",
       "      <th>Sex</th>\n",
       "      <th>BP</th>\n",
       "      <th>Cholesterol</th>\n",
       "      <th>Na_to_K</th>\n",
       "      <th>Drug</th>\n",
       "    </tr>\n",
       "  </thead>\n",
       "  <tbody>\n",
       "    <tr>\n",
       "      <th>0</th>\n",
       "      <td>23</td>\n",
       "      <td>F</td>\n",
       "      <td>HIGH</td>\n",
       "      <td>HIGH</td>\n",
       "      <td>25.355</td>\n",
       "      <td>DrugY</td>\n",
       "    </tr>\n",
       "    <tr>\n",
       "      <th>1</th>\n",
       "      <td>47</td>\n",
       "      <td>M</td>\n",
       "      <td>LOW</td>\n",
       "      <td>HIGH</td>\n",
       "      <td>13.093</td>\n",
       "      <td>drugC</td>\n",
       "    </tr>\n",
       "    <tr>\n",
       "      <th>2</th>\n",
       "      <td>47</td>\n",
       "      <td>M</td>\n",
       "      <td>LOW</td>\n",
       "      <td>HIGH</td>\n",
       "      <td>10.114</td>\n",
       "      <td>drugC</td>\n",
       "    </tr>\n",
       "    <tr>\n",
       "      <th>3</th>\n",
       "      <td>28</td>\n",
       "      <td>F</td>\n",
       "      <td>NORMAL</td>\n",
       "      <td>HIGH</td>\n",
       "      <td>7.798</td>\n",
       "      <td>drugX</td>\n",
       "    </tr>\n",
       "    <tr>\n",
       "      <th>4</th>\n",
       "      <td>61</td>\n",
       "      <td>F</td>\n",
       "      <td>LOW</td>\n",
       "      <td>HIGH</td>\n",
       "      <td>18.043</td>\n",
       "      <td>DrugY</td>\n",
       "    </tr>\n",
       "    <tr>\n",
       "      <th>...</th>\n",
       "      <td>...</td>\n",
       "      <td>...</td>\n",
       "      <td>...</td>\n",
       "      <td>...</td>\n",
       "      <td>...</td>\n",
       "      <td>...</td>\n",
       "    </tr>\n",
       "    <tr>\n",
       "      <th>195</th>\n",
       "      <td>56</td>\n",
       "      <td>F</td>\n",
       "      <td>LOW</td>\n",
       "      <td>HIGH</td>\n",
       "      <td>11.567</td>\n",
       "      <td>drugC</td>\n",
       "    </tr>\n",
       "    <tr>\n",
       "      <th>196</th>\n",
       "      <td>16</td>\n",
       "      <td>M</td>\n",
       "      <td>LOW</td>\n",
       "      <td>HIGH</td>\n",
       "      <td>12.006</td>\n",
       "      <td>drugC</td>\n",
       "    </tr>\n",
       "    <tr>\n",
       "      <th>197</th>\n",
       "      <td>52</td>\n",
       "      <td>M</td>\n",
       "      <td>NORMAL</td>\n",
       "      <td>HIGH</td>\n",
       "      <td>9.894</td>\n",
       "      <td>drugX</td>\n",
       "    </tr>\n",
       "    <tr>\n",
       "      <th>198</th>\n",
       "      <td>23</td>\n",
       "      <td>M</td>\n",
       "      <td>NORMAL</td>\n",
       "      <td>NORMAL</td>\n",
       "      <td>14.020</td>\n",
       "      <td>drugX</td>\n",
       "    </tr>\n",
       "    <tr>\n",
       "      <th>199</th>\n",
       "      <td>40</td>\n",
       "      <td>F</td>\n",
       "      <td>LOW</td>\n",
       "      <td>NORMAL</td>\n",
       "      <td>11.349</td>\n",
       "      <td>drugX</td>\n",
       "    </tr>\n",
       "  </tbody>\n",
       "</table>\n",
       "<p>200 rows × 6 columns</p>\n",
       "</div>"
      ],
      "text/plain": [
       "     Age Sex      BP Cholesterol  Na_to_K   Drug\n",
       "0     23   F    HIGH        HIGH   25.355  DrugY\n",
       "1     47   M     LOW        HIGH   13.093  drugC\n",
       "2     47   M     LOW        HIGH   10.114  drugC\n",
       "3     28   F  NORMAL        HIGH    7.798  drugX\n",
       "4     61   F     LOW        HIGH   18.043  DrugY\n",
       "..   ...  ..     ...         ...      ...    ...\n",
       "195   56   F     LOW        HIGH   11.567  drugC\n",
       "196   16   M     LOW        HIGH   12.006  drugC\n",
       "197   52   M  NORMAL        HIGH    9.894  drugX\n",
       "198   23   M  NORMAL      NORMAL   14.020  drugX\n",
       "199   40   F     LOW      NORMAL   11.349  drugX\n",
       "\n",
       "[200 rows x 6 columns]"
      ]
     },
     "execution_count": 5,
     "metadata": {},
     "output_type": "execute_result"
    }
   ],
   "source": [
    "df"
   ]
  },
  {
   "cell_type": "code",
   "execution_count": 6,
   "id": "33989903",
   "metadata": {},
   "outputs": [
    {
     "data": {
      "image/png": "[encoded data removed]",
      "text/plain": [
       "<Figure size 1080x864 with 6 Axes>"
      ]
     },
     "metadata": {
      "needs_background": "light"
     },
     "output_type": "display_data"
    }
   ],
   "source": [
    "fig, ax = plt.subplots(2, 3, figsize=(15, 12))\n",
    "ax = ax.flatten()\n",
    "for i, c in enumerate(df.columns):\n",
    "    sns.histplot(data=df, x=c, ax=ax[i])\n",
    "plt.show()"
   ]
  },
  {
   "cell_type": "code",
   "execution_count": 7,
   "id": "81ab2285",
   "metadata": {},
   "outputs": [],
   "source": [
    "level = {'HIGH':2, 'NORMAL':1, 'LOW':0}\n",
    "df['BP'].replace(level, inplace=True)\n",
    "df['Cholesterol'].replace(level, inplace=True)"
   ]
  },
  {
   "cell_type": "code",
   "execution_count": 8,
   "id": "1c9820ea",
   "metadata": {},
   "outputs": [],
   "source": [
    "sex_map = {'F':0, 'M':1}\n",
    "df['Sex'].replace(sex_map, inplace=True)"
   ]
  },
  {
   "cell_type": "code",
   "execution_count": 9,
   "id": "57ef6eab",
   "metadata": {},
   "outputs": [],
   "source": [
    "label = {'DrugY':0, 'drugC':1, 'drugX':2, 'drugA':3, 'drugB':4}"
   ]
  },
  {
   "cell_type": "code",
   "execution_count": 10,
   "id": "e7e40f80",
   "metadata": {},
   "outputs": [],
   "source": [
    "df['Drug'] = df.Drug.replace(label)"
   ]
  },
  {
   "cell_type": "code",
   "execution_count": 11,
   "id": "0449c78a",
   "metadata": {},
   "outputs": [
    {
     "data": {
      "text/html": [
       "<div>\n",
       "<style scoped>\n",
       "    .dataframe tbody tr th:only-of-type {\n",
       "        vertical-align: middle;\n",
       "    }\n",
       "\n",
       "    .dataframe tbody tr th {\n",
       "        vertical-align: top;\n",
       "    }\n",
       "\n",
       "    .dataframe thead th {\n",
       "        text-align: right;\n",
       "    }\n",
       "</style>\n",
       "<table border=\"1\" class=\"dataframe\">\n",
       "  <thead>\n",
       "    <tr style=\"text-align: right;\">\n",
       "      <th></th>\n",
       "      <th>Age</th>\n",
       "      <th>Sex</th>\n",
       "      <th>BP</th>\n",
       "      <th>Cholesterol</th>\n",
       "      <th>Na_to_K</th>\n",
       "      <th>Drug</th>\n",
       "    </tr>\n",
       "  </thead>\n",
       "  <tbody>\n",
       "    <tr>\n",
       "      <th>0</th>\n",
       "      <td>23</td>\n",
       "      <td>0</td>\n",
       "      <td>2</td>\n",
       "      <td>2</td>\n",
       "      <td>25.355</td>\n",
       "      <td>0</td>\n",
       "    </tr>\n",
       "    <tr>\n",
       "      <th>1</th>\n",
       "      <td>47</td>\n",
       "      <td>1</td>\n",
       "      <td>0</td>\n",
       "      <td>2</td>\n",
       "      <td>13.093</td>\n",
       "      <td>1</td>\n",
       "    </tr>\n",
       "    <tr>\n",
       "      <th>2</th>\n",
       "      <td>47</td>\n",
       "      <td>1</td>\n",
       "      <td>0</td>\n",
       "      <td>2</td>\n",
       "      <td>10.114</td>\n",
       "      <td>1</td>\n",
       "    </tr>\n",
       "    <tr>\n",
       "      <th>3</th>\n",
       "      <td>28</td>\n",
       "      <td>0</td>\n",
       "      <td>1</td>\n",
       "      <td>2</td>\n",
       "      <td>7.798</td>\n",
       "      <td>2</td>\n",
       "    </tr>\n",
       "    <tr>\n",
       "      <th>4</th>\n",
       "      <td>61</td>\n",
       "      <td>0</td>\n",
       "      <td>0</td>\n",
       "      <td>2</td>\n",
       "      <td>18.043</td>\n",
       "      <td>0</td>\n",
       "    </tr>\n",
       "  </tbody>\n",
       "</table>\n",
       "</div>"
      ],
      "text/plain": [
       "   Age  Sex  BP  Cholesterol  Na_to_K  Drug\n",
       "0   23    0   2            2   25.355     0\n",
       "1   47    1   0            2   13.093     1\n",
       "2   47    1   0            2   10.114     1\n",
       "3   28    0   1            2    7.798     2\n",
       "4   61    0   0            2   18.043     0"
      ]
     },
     "execution_count": 11,
     "metadata": {},
     "output_type": "execute_result"
    }
   ],
   "source": [
    "df.head()"
   ]
  },
  {
   "cell_type": "code",
   "execution_count": 12,
   "id": "5ef9e6bd",
   "metadata": {},
   "outputs": [],
   "source": [
    "X = df.drop('Drug', axis=1)\n",
    "y = df['Drug']"
   ]
  },
  {
   "cell_type": "code",
   "execution_count": 13,
   "id": "d54f4a09",
   "metadata": {},
   "outputs": [],
   "source": [
    "from sklearn.model_selection import train_test_split\n",
    "X_train, X_test, y_train, y_test = train_test_split(X, y, random_state=2022, shuffle=True)"
   ]
  },
  {
   "cell_type": "code",
   "execution_count": 14,
   "id": "e1ff22b1",
   "metadata": {},
   "outputs": [],
   "source": [
    "from sklearn.decomposition import PCA"
   ]
  },
  {
   "cell_type": "code",
   "execution_count": 15,
   "id": "973c6246",
   "metadata": {},
   "outputs": [],
   "source": [
    "pca = PCA()\n",
    "X_train_pca = pca.fit_transform(X_train)\n",
    "X_test_pca = pca.fit_transform(X_test)"
   ]
  },
  {
   "cell_type": "code",
   "execution_count": null,
   "id": "066549c6",
   "metadata": {},
   "outputs": [],
   "source": [
    "def get_acc(DF):\n",
    "    DF = DF.copy()\n",
    "    DF = pd.concat([DF, y_train], axis=1)\n",
    "    percentage = DF.groupby('cluster').apply(lambda x: x[['Drug']].replace(label_inverse).value_counts(normalize=True).sort_values(ascending=False)[0])\n",
    "    drug_names = DF.groupby('cluster').apply(lambda x: x[['Drug']].replace(label_inverse).value_counts(normalize=True).sort_values(ascending=False).index[0][0])\n",
    "    final_df = drug_names.to_frame()\n",
    "    final_df['percentage'] = percentage\n",
    "    final_df.rename(columns={0:'Drugs'}, inplace=True)\n",
    "    final_df.sort_values('percentage', ascending=False)\n",
    "    avg_accuracy = final_df['percentage'].sum()/len(final_df)\n",
    "    \n",
    "    return avg_accuracy"
   ]
  },
  {
   "cell_type": "markdown",
   "id": "3cf8151d",
   "metadata": {},
   "source": [
    "# Kmeans"
   ]
  },
  {
   "cell_type": "code",
   "execution_count": 46,
   "id": "125e56d4",
   "metadata": {},
   "outputs": [
    {
     "data": {
      "image/png": "[encoded data removed]",
      "text/plain": [
       "<Figure size 432x288 with 1 Axes>"
      ]
     },
     "metadata": {
      "needs_background": "light"
     },
     "output_type": "display_data"
    }
   ],
   "source": [
    "from sklearn.cluster import KMeans\n",
    "intertia = {}\n",
    "for k in range(2, 20):\n",
    "    kmeans = KMeans(n_clusters=k, random_state=0)\n",
    "    kmeans.fit(X_train_pca)\n",
    "    intertia[k] = kmeans.inertia_\n",
    "    \n",
    "intertia = pd.DataFrame(intertia, index=['Intertia'])\n",
    "intertia.T['Intertia'].plot()\n",
    "plt.show()"
   ]
  },
  {
   "cell_type": "code",
   "execution_count": 47,
   "id": "89a31704",
   "metadata": {},
   "outputs": [
    {
     "data": {
      "text/plain": [
       "array([0, 7, 6, 7, 0, 2, 6, 2, 3, 4, 8, 4, 0, 8, 7, 3, 2, 7, 0, 8, 6, 6,\n",
       "       0, 4, 2, 8, 7, 2, 5, 4, 4, 2, 4, 1, 4, 0, 4, 7, 2, 3, 4, 9, 2, 8,\n",
       "       2, 4, 7, 6, 8, 7, 4, 1, 2, 8, 3, 2, 3, 4, 4, 6, 4, 0, 3, 3, 0, 4,\n",
       "       5, 1, 2, 1, 4, 5, 3, 4, 3, 4, 2, 3, 4, 7, 9, 5, 2, 5, 7, 2, 6, 7,\n",
       "       0, 6, 2, 5, 7, 3, 5, 7, 0, 7, 2, 7, 9, 6, 4, 4, 7, 0, 4, 9, 3, 5,\n",
       "       9, 6, 2, 0, 8, 6, 0, 6, 6, 5, 8, 8, 7, 5, 9, 8, 8, 1, 0, 7, 9, 9,\n",
       "       3, 0, 5, 7, 6, 4, 9, 0, 3, 2, 1, 7, 6, 6, 3, 2, 6, 3], dtype=int32)"
      ]
     },
     "execution_count": 47,
     "metadata": {},
     "output_type": "execute_result"
    }
   ],
   "source": [
    "kmeans = KMeans(n_clusters=10, random_state=0)\n",
    "kmeans.fit(X_train_pca)\n",
    "kmeans.labels_"
   ]
  },
  {
   "cell_type": "code",
   "execution_count": 59,
   "id": "d104ba5d",
   "metadata": {},
   "outputs": [
    {
     "data": {
      "text/html": [
       "<div>\n",
       "<style scoped>\n",
       "    .dataframe tbody tr th:only-of-type {\n",
       "        vertical-align: middle;\n",
       "    }\n",
       "\n",
       "    .dataframe tbody tr th {\n",
       "        vertical-align: top;\n",
       "    }\n",
       "\n",
       "    .dataframe thead th {\n",
       "        text-align: right;\n",
       "    }\n",
       "</style>\n",
       "<table border=\"1\" class=\"dataframe\">\n",
       "  <thead>\n",
       "    <tr style=\"text-align: right;\">\n",
       "      <th></th>\n",
       "      <th>Age</th>\n",
       "      <th>Sex</th>\n",
       "      <th>BP</th>\n",
       "      <th>Cholesterol</th>\n",
       "      <th>Na_to_K</th>\n",
       "      <th>cluster</th>\n",
       "      <th>Drug</th>\n",
       "    </tr>\n",
       "  </thead>\n",
       "  <tbody>\n",
       "    <tr>\n",
       "      <th>80</th>\n",
       "      <td>60</td>\n",
       "      <td>1</td>\n",
       "      <td>2</td>\n",
       "      <td>2</td>\n",
       "      <td>13.934</td>\n",
       "      <td>0</td>\n",
       "      <td>4</td>\n",
       "    </tr>\n",
       "    <tr>\n",
       "      <th>182</th>\n",
       "      <td>20</td>\n",
       "      <td>0</td>\n",
       "      <td>0</td>\n",
       "      <td>1</td>\n",
       "      <td>11.686</td>\n",
       "      <td>7</td>\n",
       "      <td>2</td>\n",
       "    </tr>\n",
       "    <tr>\n",
       "      <th>174</th>\n",
       "      <td>42</td>\n",
       "      <td>1</td>\n",
       "      <td>2</td>\n",
       "      <td>1</td>\n",
       "      <td>12.766</td>\n",
       "      <td>6</td>\n",
       "      <td>3</td>\n",
       "    </tr>\n",
       "    <tr>\n",
       "      <th>106</th>\n",
       "      <td>22</td>\n",
       "      <td>1</td>\n",
       "      <td>1</td>\n",
       "      <td>2</td>\n",
       "      <td>11.953</td>\n",
       "      <td>7</td>\n",
       "      <td>2</td>\n",
       "    </tr>\n",
       "    <tr>\n",
       "      <th>158</th>\n",
       "      <td>59</td>\n",
       "      <td>0</td>\n",
       "      <td>0</td>\n",
       "      <td>2</td>\n",
       "      <td>10.444</td>\n",
       "      <td>0</td>\n",
       "      <td>1</td>\n",
       "    </tr>\n",
       "    <tr>\n",
       "      <th>...</th>\n",
       "      <td>...</td>\n",
       "      <td>...</td>\n",
       "      <td>...</td>\n",
       "      <td>...</td>\n",
       "      <td>...</td>\n",
       "      <td>...</td>\n",
       "      <td>...</td>\n",
       "    </tr>\n",
       "    <tr>\n",
       "      <th>183</th>\n",
       "      <td>36</td>\n",
       "      <td>0</td>\n",
       "      <td>2</td>\n",
       "      <td>1</td>\n",
       "      <td>15.490</td>\n",
       "      <td>6</td>\n",
       "      <td>0</td>\n",
       "    </tr>\n",
       "    <tr>\n",
       "      <th>177</th>\n",
       "      <td>25</td>\n",
       "      <td>1</td>\n",
       "      <td>1</td>\n",
       "      <td>2</td>\n",
       "      <td>19.011</td>\n",
       "      <td>3</td>\n",
       "      <td>0</td>\n",
       "    </tr>\n",
       "    <tr>\n",
       "      <th>112</th>\n",
       "      <td>35</td>\n",
       "      <td>1</td>\n",
       "      <td>0</td>\n",
       "      <td>1</td>\n",
       "      <td>9.170</td>\n",
       "      <td>2</td>\n",
       "      <td>2</td>\n",
       "    </tr>\n",
       "    <tr>\n",
       "      <th>173</th>\n",
       "      <td>41</td>\n",
       "      <td>0</td>\n",
       "      <td>0</td>\n",
       "      <td>1</td>\n",
       "      <td>18.739</td>\n",
       "      <td>6</td>\n",
       "      <td>0</td>\n",
       "    </tr>\n",
       "    <tr>\n",
       "      <th>125</th>\n",
       "      <td>19</td>\n",
       "      <td>0</td>\n",
       "      <td>2</td>\n",
       "      <td>1</td>\n",
       "      <td>25.969</td>\n",
       "      <td>3</td>\n",
       "      <td>0</td>\n",
       "    </tr>\n",
       "  </tbody>\n",
       "</table>\n",
       "<p>150 rows × 7 columns</p>\n",
       "</div>"
      ],
      "text/plain": [
       "     Age  Sex  BP  Cholesterol  Na_to_K  cluster  Drug\n",
       "80    60    1   2            2   13.934        0     4\n",
       "182   20    0   0            1   11.686        7     2\n",
       "174   42    1   2            1   12.766        6     3\n",
       "106   22    1   1            2   11.953        7     2\n",
       "158   59    0   0            2   10.444        0     1\n",
       "..   ...  ...  ..          ...      ...      ...   ...\n",
       "183   36    0   2            1   15.490        6     0\n",
       "177   25    1   1            2   19.011        3     0\n",
       "112   35    1   0            1    9.170        2     2\n",
       "173   41    0   0            1   18.739        6     0\n",
       "125   19    0   2            1   25.969        3     0\n",
       "\n",
       "[150 rows x 7 columns]"
      ]
     },
     "execution_count": 59,
     "metadata": {},
     "output_type": "execute_result"
    }
   ],
   "source": [
    "X_train_pca_kemans"
   ]
  },
  {
   "cell_type": "code",
   "execution_count": 52,
   "id": "52119b40",
   "metadata": {},
   "outputs": [],
   "source": [
    "X_train_pca_kemans = X_train.copy()"
   ]
  },
  {
   "cell_type": "code",
   "execution_count": 53,
   "id": "ac05fb48",
   "metadata": {},
   "outputs": [],
   "source": [
    "X_train_pca_kemans['cluster'] = kmeans.labels_"
   ]
  },
  {
   "cell_type": "code",
   "execution_count": 55,
   "id": "8fce0d91",
   "metadata": {},
   "outputs": [],
   "source": [
    "X_train_pca_kemans['Drug'] = y_train"
   ]
  },
  {
   "cell_type": "code",
   "execution_count": 18,
   "id": "d7b9a3c6",
   "metadata": {},
   "outputs": [
    {
     "data": {
      "text/html": [
       "<div>\n",
       "<style scoped>\n",
       "    .dataframe tbody tr th:only-of-type {\n",
       "        vertical-align: middle;\n",
       "    }\n",
       "\n",
       "    .dataframe tbody tr th {\n",
       "        vertical-align: top;\n",
       "    }\n",
       "\n",
       "    .dataframe thead th {\n",
       "        text-align: right;\n",
       "    }\n",
       "</style>\n",
       "<table border=\"1\" class=\"dataframe\">\n",
       "  <thead>\n",
       "    <tr style=\"text-align: right;\">\n",
       "      <th></th>\n",
       "      <th>Drugs</th>\n",
       "      <th>percentage</th>\n",
       "    </tr>\n",
       "    <tr>\n",
       "      <th>Clustered</th>\n",
       "      <th></th>\n",
       "      <th></th>\n",
       "    </tr>\n",
       "  </thead>\n",
       "  <tbody>\n",
       "    <tr>\n",
       "      <th>1</th>\n",
       "      <td>DrugY</td>\n",
       "      <td>1.000000</td>\n",
       "    </tr>\n",
       "    <tr>\n",
       "      <th>3</th>\n",
       "      <td>DrugY</td>\n",
       "      <td>1.000000</td>\n",
       "    </tr>\n",
       "    <tr>\n",
       "      <th>9</th>\n",
       "      <td>DrugY</td>\n",
       "      <td>1.000000</td>\n",
       "    </tr>\n",
       "    <tr>\n",
       "      <th>5</th>\n",
       "      <td>DrugY</td>\n",
       "      <td>0.909091</td>\n",
       "    </tr>\n",
       "    <tr>\n",
       "      <th>6</th>\n",
       "      <td>DrugY</td>\n",
       "      <td>0.882353</td>\n",
       "    </tr>\n",
       "    <tr>\n",
       "      <th>2</th>\n",
       "      <td>drugX</td>\n",
       "      <td>0.550000</td>\n",
       "    </tr>\n",
       "    <tr>\n",
       "      <th>8</th>\n",
       "      <td>drugX</td>\n",
       "      <td>0.500000</td>\n",
       "    </tr>\n",
       "    <tr>\n",
       "      <th>7</th>\n",
       "      <td>drugX</td>\n",
       "      <td>0.400000</td>\n",
       "    </tr>\n",
       "    <tr>\n",
       "      <th>4</th>\n",
       "      <td>drugX</td>\n",
       "      <td>0.391304</td>\n",
       "    </tr>\n",
       "    <tr>\n",
       "      <th>0</th>\n",
       "      <td>drugB</td>\n",
       "      <td>0.375000</td>\n",
       "    </tr>\n",
       "  </tbody>\n",
       "</table>\n",
       "</div>"
      ],
      "text/plain": [
       "           Drugs  percentage\n",
       "Clustered                   \n",
       "1          DrugY    1.000000\n",
       "3          DrugY    1.000000\n",
       "9          DrugY    1.000000\n",
       "5          DrugY    0.909091\n",
       "6          DrugY    0.882353\n",
       "2          drugX    0.550000\n",
       "8          drugX    0.500000\n",
       "7          drugX    0.400000\n",
       "4          drugX    0.391304\n",
       "0          drugB    0.375000"
      ]
     },
     "execution_count": 18,
     "metadata": {},
     "output_type": "execute_result"
    }
   ],
   "source": [
    "evaluate_df = X_train.copy()\n",
    "evaluate_df = pd.concat([evaluate_df, y_train], axis=1)\n",
    "evaluate_df['Clustered'] = kmeans.labels_\n",
    "label_inverse = {v:k for k, v in label.items()}\n",
    "percentage = evaluate_df.groupby('Clustered').apply(lambda x: x[['Drug']].replace(label_inverse).value_counts(normalize=True).sort_values(ascending=False)[0])\n",
    "drug_names = evaluate_df.groupby('Clustered').apply(lambda x: x[['Drug']].replace(label_inverse).value_counts(normalize=True).sort_values(ascending=False).index[0][0])\n",
    "final_df = drug_names.to_frame()\n",
    "final_df['percentage'] = percentage\n",
    "final_df.rename(columns={0:'Drugs'}, inplace=True)\n",
    "final_df.sort_values('percentage', ascending=False)"
   ]
  },
  {
   "cell_type": "code",
   "execution_count": 19,
   "id": "b11d02ed",
   "metadata": {},
   "outputs": [],
   "source": [
    "avg_acc = {}\n",
    "for k in range(2, 31):\n",
    "    kmeans = KMeans(n_clusters=k, random_state=0)\n",
    "    kmeans.fit(X_train_pca)\n",
    "\n",
    "    evaluate_df = X_train.copy()\n",
    "    evaluate_df = pd.concat([evaluate_df, y_train], axis=1)\n",
    "    evaluate_df['Clustered'] = kmeans.labels_\n",
    "    label_inverse = {v:k for k, v in label.items()}\n",
    "    percentage = evaluate_df.groupby('Clustered').apply(lambda x: x[['Drug']].replace(label_inverse).value_counts(normalize=True).sort_values(ascending=False)[0])\n",
    "    drug_names = evaluate_df.groupby('Clustered').apply(lambda x: x[['Drug']].replace(label_inverse).value_counts(normalize=True).sort_values(ascending=False).index[0][0])\n",
    "    final_df = drug_names.to_frame()\n",
    "    final_df['percentage'] = percentage\n",
    "    final_df.rename(columns={0:'Drugs'}, inplace=True)\n",
    "    final_df.sort_values('percentage', ascending=False)\n",
    "    avg_accuracy = final_df['percentage'].sum()/len(final_df)\n",
    "    avg_acc[k] = avg_accuracy"
   ]
  },
  {
   "cell_type": "code",
   "execution_count": 20,
   "id": "0a945f89",
   "metadata": {},
   "outputs": [
    {
     "data": {
      "image/png": "[encoded data removed]",
      "text/plain": [
       "<Figure size 432x288 with 1 Axes>"
      ]
     },
     "metadata": {
      "needs_background": "light"
     },
     "output_type": "display_data"
    }
   ],
   "source": [
    "pd.DataFrame(avg_acc, index=['ACC']).T.plot()\n",
    "plt.show()"
   ]
  },
  {
   "cell_type": "markdown",
   "id": "5e7650e5",
   "metadata": {},
   "source": [
    "Model become more accurate as the number of clusters goes up.\n",
    "In another word, each cluster become more homogenous."
   ]
  },
  {
   "cell_type": "code",
   "execution_count": 21,
   "id": "0bb697d9",
   "metadata": {},
   "outputs": [],
   "source": [
    "pcas = {}\n",
    "for p in range(1, len(X_train.columns)+1):\n",
    "    pca = PCA(n_components=p)\n",
    "    X_train_pca = pca.fit_transform(X_train)\n",
    "    X_test_pca = pca.fit_transform(X_test)\n",
    "    \n",
    "    kmeans = KMeans(n_clusters=10, random_state=0)\n",
    "    kmeans.fit(X_train_pca)\n",
    "\n",
    "    evaluate_df = X_train.copy()\n",
    "    evaluate_df = pd.concat([evaluate_df, y_train], axis=1)\n",
    "    evaluate_df['Clustered'] = kmeans.labels_\n",
    "    label_inverse = {v:k for k, v in label.items()}\n",
    "    percentage = evaluate_df.groupby('Clustered').apply(lambda x: x[['Drug']].replace(label_inverse).value_counts(normalize=True).sort_values(ascending=False)[0])\n",
    "    drug_names = evaluate_df.groupby('Clustered').apply(lambda x: x[['Drug']].replace(label_inverse).value_counts(normalize=True).sort_values(ascending=False).index[0][0])\n",
    "    final_df = drug_names.to_frame()\n",
    "    final_df['percentage'] = percentage\n",
    "    final_df.rename(columns={0:'Drugs'}, inplace=True)\n",
    "    final_df.sort_values('percentage', ascending=False)\n",
    "    avg_accuracy = final_df['percentage'].sum()/len(final_df)\n",
    "    \n",
    "    pcas[p] = avg_accuracy"
   ]
  },
  {
   "cell_type": "code",
   "execution_count": 22,
   "id": "1b58f31e",
   "metadata": {},
   "outputs": [
    {
     "data": {
      "image/png": "[encoded data removed]",
      "text/plain": [
       "<Figure size 432x288 with 1 Axes>"
      ]
     },
     "metadata": {
      "needs_background": "light"
     },
     "output_type": "display_data"
    }
   ],
   "source": [
    "pd.DataFrame(pcas, index=['ACC']).T.plot()\n",
    "plt.show()"
   ]
  },
  {
   "cell_type": "markdown",
   "id": "8c1c0951",
   "metadata": {},
   "source": [
    "The acc become stable after the number of components are more than two (~70%)."
   ]
  },
  {
   "cell_type": "markdown",
   "id": "71862611",
   "metadata": {},
   "source": [
    "# Dendrogram"
   ]
  },
  {
   "cell_type": "code",
   "execution_count": 23,
   "id": "4abccf12",
   "metadata": {},
   "outputs": [],
   "source": [
    "import fastcluster\n",
    "from scipy.cluster.hierarchy import dendrogram, cophenet\n",
    "from scipy.spatial.distance import pdist"
   ]
  },
  {
   "cell_type": "code",
   "execution_count": 24,
   "id": "6349567e",
   "metadata": {},
   "outputs": [],
   "source": [
    "Z = fastcluster.linkage_vector(X_train_pca, method='ward', metric='euclidean')"
   ]
  },
  {
   "cell_type": "code",
   "execution_count": 25,
   "id": "2908cf62",
   "metadata": {},
   "outputs": [],
   "source": [
    "Z_df = pd.DataFrame(Z, columns=['clusterOne', 'clusterTwo', 'distance', 'newClusterSize'])"
   ]
  },
  {
   "cell_type": "code",
   "execution_count": 26,
   "id": "2bddf4fe",
   "metadata": {},
   "outputs": [
    {
     "data": {
      "text/html": [
       "<div>\n",
       "<style scoped>\n",
       "    .dataframe tbody tr th:only-of-type {\n",
       "        vertical-align: middle;\n",
       "    }\n",
       "\n",
       "    .dataframe tbody tr th {\n",
       "        vertical-align: top;\n",
       "    }\n",
       "\n",
       "    .dataframe thead th {\n",
       "        text-align: right;\n",
       "    }\n",
       "</style>\n",
       "<table border=\"1\" class=\"dataframe\">\n",
       "  <thead>\n",
       "    <tr style=\"text-align: right;\">\n",
       "      <th></th>\n",
       "      <th>clusterOne</th>\n",
       "      <th>clusterTwo</th>\n",
       "      <th>distance</th>\n",
       "      <th>newClusterSize</th>\n",
       "    </tr>\n",
       "  </thead>\n",
       "  <tbody>\n",
       "    <tr>\n",
       "      <th>0</th>\n",
       "      <td>16.0</td>\n",
       "      <td>82.0</td>\n",
       "      <td>0.644000</td>\n",
       "      <td>2.0</td>\n",
       "    </tr>\n",
       "    <tr>\n",
       "      <th>1</th>\n",
       "      <td>0.0</td>\n",
       "      <td>12.0</td>\n",
       "      <td>1.000000</td>\n",
       "      <td>2.0</td>\n",
       "    </tr>\n",
       "    <tr>\n",
       "      <th>2</th>\n",
       "      <td>54.0</td>\n",
       "      <td>62.0</td>\n",
       "      <td>1.007294</td>\n",
       "      <td>2.0</td>\n",
       "    </tr>\n",
       "    <tr>\n",
       "      <th>3</th>\n",
       "      <td>29.0</td>\n",
       "      <td>45.0</td>\n",
       "      <td>1.080030</td>\n",
       "      <td>2.0</td>\n",
       "    </tr>\n",
       "    <tr>\n",
       "      <th>4</th>\n",
       "      <td>61.0</td>\n",
       "      <td>105.0</td>\n",
       "      <td>1.086566</td>\n",
       "      <td>2.0</td>\n",
       "    </tr>\n",
       "    <tr>\n",
       "      <th>...</th>\n",
       "      <td>...</td>\n",
       "      <td>...</td>\n",
       "      <td>...</td>\n",
       "      <td>...</td>\n",
       "    </tr>\n",
       "    <tr>\n",
       "      <th>144</th>\n",
       "      <td>286.0</td>\n",
       "      <td>289.0</td>\n",
       "      <td>57.870043</td>\n",
       "      <td>36.0</td>\n",
       "    </tr>\n",
       "    <tr>\n",
       "      <th>145</th>\n",
       "      <td>287.0</td>\n",
       "      <td>290.0</td>\n",
       "      <td>60.563022</td>\n",
       "      <td>36.0</td>\n",
       "    </tr>\n",
       "    <tr>\n",
       "      <th>146</th>\n",
       "      <td>291.0</td>\n",
       "      <td>295.0</td>\n",
       "      <td>87.450769</td>\n",
       "      <td>69.0</td>\n",
       "    </tr>\n",
       "    <tr>\n",
       "      <th>147</th>\n",
       "      <td>293.0</td>\n",
       "      <td>294.0</td>\n",
       "      <td>93.270148</td>\n",
       "      <td>81.0</td>\n",
       "    </tr>\n",
       "    <tr>\n",
       "      <th>148</th>\n",
       "      <td>296.0</td>\n",
       "      <td>297.0</td>\n",
       "      <td>246.717486</td>\n",
       "      <td>150.0</td>\n",
       "    </tr>\n",
       "  </tbody>\n",
       "</table>\n",
       "<p>149 rows × 4 columns</p>\n",
       "</div>"
      ],
      "text/plain": [
       "     clusterOne  clusterTwo    distance  newClusterSize\n",
       "0          16.0        82.0    0.644000             2.0\n",
       "1           0.0        12.0    1.000000             2.0\n",
       "2          54.0        62.0    1.007294             2.0\n",
       "3          29.0        45.0    1.080030             2.0\n",
       "4          61.0       105.0    1.086566             2.0\n",
       "..          ...         ...         ...             ...\n",
       "144       286.0       289.0   57.870043            36.0\n",
       "145       287.0       290.0   60.563022            36.0\n",
       "146       291.0       295.0   87.450769            69.0\n",
       "147       293.0       294.0   93.270148            81.0\n",
       "148       296.0       297.0  246.717486           150.0\n",
       "\n",
       "[149 rows x 4 columns]"
      ]
     },
     "execution_count": 26,
     "metadata": {},
     "output_type": "execute_result"
    }
   ],
   "source": [
    "Z_df"
   ]
  },
  {
   "cell_type": "code",
   "execution_count": 27,
   "id": "0c76d68d",
   "metadata": {},
   "outputs": [],
   "source": [
    "from scipy.cluster.hierarchy import fcluster"
   ]
  },
  {
   "cell_type": "code",
   "execution_count": 28,
   "id": "59dd7e85",
   "metadata": {},
   "outputs": [
    {
     "name": "stdout",
     "output_type": "stream",
     "text": [
      "Number of distinct clusters:  28\n"
     ]
    }
   ],
   "source": [
    "distance_threshold = 9\n",
    "cluster = fcluster(Z, distance_threshold, criterion='distance')\n",
    "X_train_hierClustered = pd.DataFrame(data=cluster, index=X_train.index, columns=['cluster'])\n",
    "print('Number of distinct clusters: ', X_train_hierClustered['cluster'].nunique())"
   ]
  },
  {
   "cell_type": "code",
   "execution_count": 29,
   "id": "9079529d",
   "metadata": {},
   "outputs": [],
   "source": [
    "X_train_hierClustered2 = pd.concat([X_train_hierClustered, y_train], axis=1)"
   ]
  },
  {
   "cell_type": "code",
   "execution_count": 30,
   "id": "044e4067",
   "metadata": {},
   "outputs": [],
   "source": [
    "percentage = X_train_hierClustered2.groupby('cluster').apply(lambda x: x[['Drug']].replace(label_inverse).value_counts(normalize=True).sort_values(ascending=False)[0])\n",
    "drug_names = X_train_hierClustered2.groupby('cluster').apply(lambda x: x[['Drug']].replace(label_inverse).value_counts(normalize=True).sort_values(ascending=False).index[0][0])\n",
    "final_df = drug_names.to_frame()\n",
    "final_df['percentage'] = percentage\n",
    "final_df.rename(columns={0:'Drugs'}, inplace=True)\n",
    "final_df.sort_values('percentage', ascending=False)\n",
    "avg_accuracy = final_df['percentage'].sum()/len(final_df)"
   ]
  },
  {
   "cell_type": "code",
   "execution_count": 31,
   "id": "f3410ebb",
   "metadata": {},
   "outputs": [
    {
     "data": {
      "text/plain": [
       "0.8044990723562152"
      ]
     },
     "execution_count": 31,
     "metadata": {},
     "output_type": "execute_result"
    }
   ],
   "source": [
    "avg_accuracy"
   ]
  },
  {
   "cell_type": "code",
   "execution_count": 32,
   "id": "4532c91c",
   "metadata": {},
   "outputs": [
    {
     "data": {
      "text/plain": [
       "cluster\n",
       "1     0.666667\n",
       "2     0.333333\n",
       "3     0.400000\n",
       "4     0.454545\n",
       "5     0.750000\n",
       "6     0.500000\n",
       "7     1.000000\n",
       "8     0.833333\n",
       "9     1.000000\n",
       "10    1.000000\n",
       "11    1.000000\n",
       "12    1.000000\n",
       "13    0.583333\n",
       "14    0.666667\n",
       "15    0.571429\n",
       "16    1.000000\n",
       "17    1.000000\n",
       "18    1.000000\n",
       "19    1.000000\n",
       "20    0.833333\n",
       "21    0.666667\n",
       "22    1.000000\n",
       "23    0.600000\n",
       "24    1.000000\n",
       "25    0.666667\n",
       "26    1.000000\n",
       "27    1.000000\n",
       "28    1.000000\n",
       "dtype: float64"
      ]
     },
     "execution_count": 32,
     "metadata": {},
     "output_type": "execute_result"
    }
   ],
   "source": [
    "percentage"
   ]
  },
  {
   "cell_type": "markdown",
   "id": "28ce457f",
   "metadata": {},
   "source": [
    "This is how it would work on real-world examples: we would apply dimensionality reduction first (such as PCA), then we would perform clustering (such as hierarchical clustering), and finally we would hand-label a few points per cluster. For example, for this MNIST digits dataset, if we did not have any labels, we would look at a few images per cluster and label those images based on the digits they displayed. So long as the clusters were homogeneous enough, the few hand labels we generated could be applied automatically to all the other images in the cluster.\n",
    "\n",
    "\n",
    "All of a sudden, without much effort, we could have labeled all the images in our 50,000 dataset with a near 77% accuracy. This is impressive and highlights the power of unsupervised learning"
   ]
  },
  {
   "cell_type": "markdown",
   "id": "1a6bd8da",
   "metadata": {},
   "source": [
    "# DBSCAN"
   ]
  },
  {
   "cell_type": "code",
   "execution_count": 37,
   "id": "19224866",
   "metadata": {},
   "outputs": [
    {
     "data": {
      "text/html": [
       "<div>\n",
       "<style scoped>\n",
       "    .dataframe tbody tr th:only-of-type {\n",
       "        vertical-align: middle;\n",
       "    }\n",
       "\n",
       "    .dataframe tbody tr th {\n",
       "        vertical-align: top;\n",
       "    }\n",
       "\n",
       "    .dataframe thead th {\n",
       "        text-align: right;\n",
       "    }\n",
       "</style>\n",
       "<table border=\"1\" class=\"dataframe\">\n",
       "  <thead>\n",
       "    <tr style=\"text-align: right;\">\n",
       "      <th></th>\n",
       "      <th>cluster</th>\n",
       "    </tr>\n",
       "  </thead>\n",
       "  <tbody>\n",
       "    <tr>\n",
       "      <th>0</th>\n",
       "      <td>3</td>\n",
       "    </tr>\n",
       "    <tr>\n",
       "      <th>1</th>\n",
       "      <td>0</td>\n",
       "    </tr>\n",
       "    <tr>\n",
       "      <th>2</th>\n",
       "      <td>-1</td>\n",
       "    </tr>\n",
       "    <tr>\n",
       "      <th>3</th>\n",
       "      <td>0</td>\n",
       "    </tr>\n",
       "    <tr>\n",
       "      <th>4</th>\n",
       "      <td>-1</td>\n",
       "    </tr>\n",
       "    <tr>\n",
       "      <th>...</th>\n",
       "      <td>...</td>\n",
       "    </tr>\n",
       "    <tr>\n",
       "      <th>145</th>\n",
       "      <td>1</td>\n",
       "    </tr>\n",
       "    <tr>\n",
       "      <th>146</th>\n",
       "      <td>6</td>\n",
       "    </tr>\n",
       "    <tr>\n",
       "      <th>147</th>\n",
       "      <td>1</td>\n",
       "    </tr>\n",
       "    <tr>\n",
       "      <th>148</th>\n",
       "      <td>-1</td>\n",
       "    </tr>\n",
       "    <tr>\n",
       "      <th>149</th>\n",
       "      <td>-1</td>\n",
       "    </tr>\n",
       "  </tbody>\n",
       "</table>\n",
       "<p>150 rows × 1 columns</p>\n",
       "</div>"
      ],
      "text/plain": [
       "     cluster\n",
       "0          3\n",
       "1          0\n",
       "2         -1\n",
       "3          0\n",
       "4         -1\n",
       "..       ...\n",
       "145        1\n",
       "146        6\n",
       "147        1\n",
       "148       -1\n",
       "149       -1\n",
       "\n",
       "[150 rows x 1 columns]"
      ]
     },
     "execution_count": 37,
     "metadata": {},
     "output_type": "execute_result"
    }
   ],
   "source": [
    "from sklearn.cluster import DBSCAN\n",
    "db = DBSCAN(eps=3, min_samples=5, leaf_size=30, n_jobs=4)\n",
    "X_train_pca_dbscanClustered = db.fit_predict(X_train_pca)\n",
    "X_train_pca_dbscanClustered = pd.DataFrame(X_train_pca_dbscanClustered, columns=['cluster'])\n",
    "X_train_pca_dbscanClustered"
   ]
  },
  {
   "cell_type": "code",
   "execution_count": 39,
   "id": "e6ee1f1b",
   "metadata": {},
   "outputs": [
    {
     "data": {
      "text/plain": [
       "0.5514352612053761"
      ]
     },
     "execution_count": 39,
     "metadata": {},
     "output_type": "execute_result"
    }
   ],
   "source": [
    "get_acc(X_train_pca_dbscanClustered)"
   ]
  },
  {
   "cell_type": "code",
   "execution_count": 43,
   "id": "f6fdf104",
   "metadata": {},
   "outputs": [
    {
     "data": {
      "text/html": [
       "<div>\n",
       "<style scoped>\n",
       "    .dataframe tbody tr th:only-of-type {\n",
       "        vertical-align: middle;\n",
       "    }\n",
       "\n",
       "    .dataframe tbody tr th {\n",
       "        vertical-align: top;\n",
       "    }\n",
       "\n",
       "    .dataframe thead th {\n",
       "        text-align: right;\n",
       "    }\n",
       "</style>\n",
       "<table border=\"1\" class=\"dataframe\">\n",
       "  <thead>\n",
       "    <tr style=\"text-align: right;\">\n",
       "      <th></th>\n",
       "      <th>cluster</th>\n",
       "    </tr>\n",
       "  </thead>\n",
       "  <tbody>\n",
       "    <tr>\n",
       "      <th>0</th>\n",
       "      <td>-1</td>\n",
       "    </tr>\n",
       "    <tr>\n",
       "      <th>1</th>\n",
       "      <td>-1</td>\n",
       "    </tr>\n",
       "    <tr>\n",
       "      <th>2</th>\n",
       "      <td>-1</td>\n",
       "    </tr>\n",
       "    <tr>\n",
       "      <th>3</th>\n",
       "      <td>-1</td>\n",
       "    </tr>\n",
       "    <tr>\n",
       "      <th>4</th>\n",
       "      <td>-1</td>\n",
       "    </tr>\n",
       "    <tr>\n",
       "      <th>...</th>\n",
       "      <td>...</td>\n",
       "    </tr>\n",
       "    <tr>\n",
       "      <th>145</th>\n",
       "      <td>-1</td>\n",
       "    </tr>\n",
       "    <tr>\n",
       "      <th>146</th>\n",
       "      <td>-1</td>\n",
       "    </tr>\n",
       "    <tr>\n",
       "      <th>147</th>\n",
       "      <td>-1</td>\n",
       "    </tr>\n",
       "    <tr>\n",
       "      <th>148</th>\n",
       "      <td>-1</td>\n",
       "    </tr>\n",
       "    <tr>\n",
       "      <th>149</th>\n",
       "      <td>-1</td>\n",
       "    </tr>\n",
       "  </tbody>\n",
       "</table>\n",
       "<p>150 rows × 1 columns</p>\n",
       "</div>"
      ],
      "text/plain": [
       "     cluster\n",
       "0         -1\n",
       "1         -1\n",
       "2         -1\n",
       "3         -1\n",
       "4         -1\n",
       "..       ...\n",
       "145       -1\n",
       "146       -1\n",
       "147       -1\n",
       "148       -1\n",
       "149       -1\n",
       "\n",
       "[150 rows x 1 columns]"
      ]
     },
     "execution_count": 43,
     "metadata": {},
     "output_type": "execute_result"
    }
   ],
   "source": [
    "import hdbscan\n",
    "hdb = hdbscan.HDBSCAN(min_cluster_size=30, min_samples=None, alpha=1.0, cluster_selection_method='eom')\n",
    "X_train_pca_hdbscanClustered = hdb.fit_predict(X_train_pca)\n",
    "X_train_pca_hdbscanClustered = pd.DataFrame(X_train_pca_hdbscanClustered, columns=['cluster'])\n",
    "X_train_pca_hdbscanClustered"
   ]
  },
  {
   "cell_type": "code",
   "execution_count": 44,
   "id": "da32de13",
   "metadata": {},
   "outputs": [
    {
     "data": {
      "text/plain": [
       "0.4732142857142857"
      ]
     },
     "execution_count": 44,
     "metadata": {},
     "output_type": "execute_result"
    }
   ],
   "source": [
    "get_acc(X_train_pca_hdbscanClustered)"
   ]
  }
 ],
 "metadata": {
  "kernelspec": {
   "display_name": "Python 3",
   "language": "python",
   "name": "python3"
  },
  "language_info": {
   "codemirror_mode": {
    "name": "ipython",
    "version": 3
   },
   "file_extension": ".py",
   "mimetype": "text/x-python",
   "name": "python",
   "nbconvert_exporter": "python",
   "pygments_lexer": "ipython3",
   "version": "3.8.8"
  }
 },
 "nbformat": 4,
 "nbformat_minor": 5
}
