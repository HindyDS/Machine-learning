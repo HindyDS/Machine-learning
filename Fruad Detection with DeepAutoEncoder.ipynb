{
 "cells": [
  {
   "cell_type": "code",
   "execution_count": 1,
   "id": "2471db65",
   "metadata": {},
   "outputs": [],
   "source": [
    "import pandas as pd\n",
    "import numpy as np\n",
    "import matplotlib.pyplot as plt\n",
    "\n",
    "import tensorflow as tf\n",
    "\n",
    "from sklearn.model_selection import train_test_split\n",
    "from sklearn.metrics import precision_recall_curve, average_precision_score, auc\n",
    "from sklearn.preprocessing import StandardScaler\n",
    "from sklearn.metrics import roc_curve\n",
    "from sklearn.metrics import auc"
   ]
  },
  {
   "cell_type": "markdown",
   "id": "0f9a821e",
   "metadata": {},
   "source": [
    "# Function To Show the Results"
   ]
  },
  {
   "cell_type": "code",
   "execution_count": 2,
   "id": "63a97488",
   "metadata": {},
   "outputs": [],
   "source": [
    "def anomalyScores(original_df, new_df):\n",
    "    loss = pd.Series(np.sum((np.array(new_df) - np.array(original_df))**2, axis=1))\n",
    "    anomalyScore = (loss - loss.min())/(loss.max() - loss.min())\n",
    "    return anomalyScore"
   ]
  },
  {
   "cell_type": "code",
   "execution_count": 3,
   "id": "43856bb6",
   "metadata": {},
   "outputs": [],
   "source": [
    "def plt_pre(ground_truth, ascore):\n",
    "    precision, recall, thresholds = precision_recall_curve(ground_truth, ascore)\n",
    "    plt.plot(np.delete(recall, np.argmax(precision)), np.delete(precision, np.argmax(precision)))\n",
    "    plt.fill_between(np.delete(recall, np.argmax(precision)), np.delete(precision, np.argmax(precision)), step=\"pre\", alpha=0.4)\n",
    "    plt.xlabel('Recell')\n",
    "    plt.ylabel('Precision')\n",
    "    plt.title(f'Average Precision: {round(average_precision_score(ground_truth, ascore), 2)}')\n",
    "    plt.show()\n",
    "\n",
    "    area_under_curve = auc(x=recall, y=precision)\n",
    "    print(f'Area Under Curve: {round(area_under_curve, 2)}')"
   ]
  },
  {
   "cell_type": "code",
   "execution_count": 4,
   "id": "ce8b3281",
   "metadata": {},
   "outputs": [],
   "source": [
    "df = pd.read_csv('creditcard.csv')"
   ]
  },
  {
   "cell_type": "code",
   "execution_count": 5,
   "id": "e07109b6",
   "metadata": {},
   "outputs": [],
   "source": [
    "X = df.drop(['Class', 'Time'], axis=1)\n",
    "y = df['Class']"
   ]
  },
  {
   "cell_type": "code",
   "execution_count": 6,
   "id": "549c9bc8",
   "metadata": {},
   "outputs": [],
   "source": [
    "X_train, X_test, y_train, y_test = train_test_split(X, y, random_state=2022, stratify=y)"
   ]
  },
  {
   "cell_type": "code",
   "execution_count": 7,
   "id": "2040d85b",
   "metadata": {},
   "outputs": [],
   "source": [
    "scaler = StandardScaler()\n",
    "X_train = scaler.fit_transform(X_train)\n",
    "X_test = scaler.fit_transform(X_test)"
   ]
  },
  {
   "cell_type": "code",
   "execution_count": 8,
   "id": "a1f4eeb1",
   "metadata": {},
   "outputs": [],
   "source": [
    "X_train_AE = X_train.copy()\n",
    "X_test_AE = X_test.copy()"
   ]
  },
  {
   "cell_type": "markdown",
   "id": "46f0e170",
   "metadata": {},
   "source": [
    "# Two-layer Complete AutoEncoder"
   ]
  },
  {
   "cell_type": "code",
   "execution_count": 9,
   "id": "a2c625f5",
   "metadata": {},
   "outputs": [
    {
     "name": "stdout",
     "output_type": "stream",
     "text": [
      "Model: \"sequential\"\n",
      "_________________________________________________________________\n",
      " Layer (type)                Output Shape              Param #   \n",
      "=================================================================\n",
      " dense (Dense)               (None, 29)                870       \n",
      "                                                                 \n",
      " dense_1 (Dense)             (None, 29)                870       \n",
      "                                                                 \n",
      "=================================================================\n",
      "Total params: 1,740\n",
      "Trainable params: 1,740\n",
      "Non-trainable params: 0\n",
      "_________________________________________________________________\n"
     ]
    }
   ],
   "source": [
    "# Complete AutoEncoder\n",
    "model = tf.keras.Sequential()\n",
    "model.add(tf.keras.layers.Dense(units=29, activation='linear', input_dim=29))\n",
    "model.add(tf.keras.layers.Dense(units=29, activation='linear'))\n",
    "model.compile(optimizer='adam', loss='mse', metrics=['accuracy'])\n",
    "model.summary()"
   ]
  },
  {
   "cell_type": "code",
   "execution_count": 10,
   "id": "30cf6fe4",
   "metadata": {},
   "outputs": [
    {
     "name": "stdout",
     "output_type": "stream",
     "text": [
      "Epoch 1/10\n",
      "6676/6676 [==============================] - 7s 1ms/step - loss: 0.0838 - accuracy: 0.9024 - val_loss: 2.4059e-04 - val_accuracy: 0.9946\n",
      "Epoch 2/10\n",
      "6676/6676 [==============================] - 7s 990us/step - loss: 9.2120e-04 - accuracy: 0.9943 - val_loss: 1.9073e-05 - val_accuracy: 0.9981\n",
      "Epoch 3/10\n",
      "6676/6676 [==============================] - 7s 983us/step - loss: 5.8443e-04 - accuracy: 0.9947 - val_loss: 1.1211e-05 - val_accuracy: 0.9980\n",
      "Epoch 4/10\n",
      "6676/6676 [==============================] - 7s 975us/step - loss: 5.2523e-04 - accuracy: 0.9939 - val_loss: 5.1563e-04 - val_accuracy: 0.9885\n",
      "Epoch 5/10\n",
      "6676/6676 [==============================] - 7s 981us/step - loss: 6.1568e-04 - accuracy: 0.9933 - val_loss: 5.3410e-06 - val_accuracy: 0.9989\n",
      "Epoch 6/10\n",
      "6676/6676 [==============================] - 7s 1000us/step - loss: 6.2511e-04 - accuracy: 0.9943 - val_loss: 0.0011 - val_accuracy: 0.9871\n",
      "Epoch 7/10\n",
      "6676/6676 [==============================] - 7s 994us/step - loss: 4.9517e-04 - accuracy: 0.9944 - val_loss: 0.0073 - val_accuracy: 0.9620\n",
      "Epoch 8/10\n",
      "6676/6676 [==============================] - 7s 982us/step - loss: 4.8941e-04 - accuracy: 0.9944 - val_loss: 3.4550e-06 - val_accuracy: 0.9994\n",
      "Epoch 9/10\n",
      "6676/6676 [==============================] - 7s 992us/step - loss: 5.3671e-04 - accuracy: 0.9938 - val_loss: 0.0016 - val_accuracy: 0.9805\n",
      "Epoch 10/10\n",
      "6676/6676 [==============================] - 6s 936us/step - loss: 4.8182e-04 - accuracy: 0.9947 - val_loss: 2.7539e-06 - val_accuracy: 0.9993\n"
     ]
    }
   ],
   "source": [
    "n_epochs = 10\n",
    "batch_size = 32\n",
    "history = model.fit(\n",
    "    x=X_train_AE,\n",
    "    y=X_train_AE,\n",
    "    epochs=n_epochs,\n",
    "    batch_size=batch_size,\n",
    "    shuffle=True,\n",
    "    validation_data=(X_train_AE, X_train_AE),\n",
    "    verbose=1)"
   ]
  },
  {
   "cell_type": "code",
   "execution_count": 11,
   "id": "d45265c9",
   "metadata": {},
   "outputs": [],
   "source": [
    "predictions = model.predict(X_test)\n",
    "anomalyScore = anomalyScores(X_test, predictions)"
   ]
  },
  {
   "cell_type": "code",
   "execution_count": 12,
   "id": "2581854e",
   "metadata": {},
   "outputs": [
    {
     "data": {
      "image/png": "[encoded data removed]",
      "text/plain": [
       "<Figure size 432x288 with 1 Axes>"
      ]
     },
     "metadata": {
      "needs_background": "light"
     },
     "output_type": "display_data"
    },
    {
     "name": "stdout",
     "output_type": "stream",
     "text": [
      "Area Under Curve: 0.07\n"
     ]
    }
   ],
   "source": [
    "plt_pre(y_test, anomalyScore)"
   ]
  },
  {
   "cell_type": "markdown",
   "id": "a8c6d4df",
   "metadata": {},
   "source": [
    "# Two-layer Undercomplete AutoEncoder"
   ]
  },
  {
   "cell_type": "code",
   "execution_count": 13,
   "id": "fa62f11f",
   "metadata": {},
   "outputs": [
    {
     "name": "stdout",
     "output_type": "stream",
     "text": [
      "Model: \"sequential_1\"\n",
      "_________________________________________________________________\n",
      " Layer (type)                Output Shape              Param #   \n",
      "=================================================================\n",
      " dense_2 (Dense)             (None, 20)                600       \n",
      "                                                                 \n",
      " dense_3 (Dense)             (None, 29)                609       \n",
      "                                                                 \n",
      "=================================================================\n",
      "Total params: 1,209\n",
      "Trainable params: 1,209\n",
      "Non-trainable params: 0\n",
      "_________________________________________________________________\n"
     ]
    }
   ],
   "source": [
    "# Undercomplete AutoEncoder\n",
    "model = tf.keras.Sequential()\n",
    "model.add(tf.keras.layers.Dense(units=20, activation='linear', input_dim=29))\n",
    "model.add(tf.keras.layers.Dense(units=29, activation='linear'))\n",
    "model.compile(optimizer='adam', loss='mse', metrics=['accuracy'])\n",
    "model.summary()"
   ]
  },
  {
   "cell_type": "code",
   "execution_count": 14,
   "id": "934f75c8",
   "metadata": {},
   "outputs": [
    {
     "name": "stdout",
     "output_type": "stream",
     "text": [
      "Epoch 1/10\n",
      "6676/6676 [==============================] - 6s 930us/step - loss: 0.3312 - accuracy: 0.5898 - val_loss: 0.2760 - val_accuracy: 0.6278\n",
      "Epoch 2/10\n",
      "6676/6676 [==============================] - 6s 910us/step - loss: 0.2788 - accuracy: 0.6337 - val_loss: 0.2771 - val_accuracy: 0.6259\n",
      "Epoch 3/10\n",
      "6676/6676 [==============================] - 7s 975us/step - loss: 0.2771 - accuracy: 0.6160 - val_loss: 0.2732 - val_accuracy: 0.6110\n",
      "Epoch 4/10\n",
      "6676/6676 [==============================] - 6s 973us/step - loss: 0.2760 - accuracy: 0.6094 - val_loss: 0.2728 - val_accuracy: 0.6004\n",
      "Epoch 5/10\n",
      "6676/6676 [==============================] - 6s 971us/step - loss: 0.2750 - accuracy: 0.5933 - val_loss: 0.2729 - val_accuracy: 0.5983\n",
      "Epoch 6/10\n",
      "6676/6676 [==============================] - 7s 978us/step - loss: 0.2753 - accuracy: 0.5994 - val_loss: 0.2727 - val_accuracy: 0.5940\n",
      "Epoch 7/10\n",
      "6676/6676 [==============================] - 7s 975us/step - loss: 0.2753 - accuracy: 0.5985 - val_loss: 0.2726 - val_accuracy: 0.5980\n",
      "Epoch 8/10\n",
      "6676/6676 [==============================] - 7s 979us/step - loss: 0.2757 - accuracy: 0.6036 - val_loss: 0.2726 - val_accuracy: 0.5974\n",
      "Epoch 9/10\n",
      "6676/6676 [==============================] - 7s 980us/step - loss: 0.2750 - accuracy: 0.5970 - val_loss: 0.2723 - val_accuracy: 0.5978\n",
      "Epoch 10/10\n",
      "6676/6676 [==============================] - 7s 981us/step - loss: 0.2749 - accuracy: 0.6019 - val_loss: 0.2724 - val_accuracy: 0.5990\n"
     ]
    }
   ],
   "source": [
    "n_epochs = 10\n",
    "batch_size = 32\n",
    "history = model.fit(\n",
    "    x=X_train_AE,\n",
    "    y=X_train_AE,\n",
    "    epochs=n_epochs,\n",
    "    batch_size=batch_size,\n",
    "    shuffle=True,\n",
    "    validation_data=(X_train_AE, X_train_AE),\n",
    "    verbose=1)"
   ]
  },
  {
   "cell_type": "code",
   "execution_count": 15,
   "id": "fd02ebde",
   "metadata": {},
   "outputs": [
    {
     "data": {
      "image/png": "[encoded data removed]",
      "text/plain": [
       "<Figure size 432x288 with 1 Axes>"
      ]
     },
     "metadata": {
      "needs_background": "light"
     },
     "output_type": "display_data"
    },
    {
     "name": "stdout",
     "output_type": "stream",
     "text": [
      "Area Under Curve: 0.04\n"
     ]
    }
   ],
   "source": [
    "predictions = model.predict(X_test)\n",
    "anomalyScore = anomalyScores(X_test, predictions)\n",
    "plt_pre(y_test, anomalyScore)"
   ]
  },
  {
   "cell_type": "markdown",
   "id": "1499b98f",
   "metadata": {},
   "source": [
    "# Two-layer Overcomplete AutoEncoder"
   ]
  },
  {
   "cell_type": "code",
   "execution_count": 16,
   "id": "70bb8e58",
   "metadata": {},
   "outputs": [
    {
     "name": "stdout",
     "output_type": "stream",
     "text": [
      "Model: \"sequential_2\"\n",
      "_________________________________________________________________\n",
      " Layer (type)                Output Shape              Param #   \n",
      "=================================================================\n",
      " dense_4 (Dense)             (None, 40)                1200      \n",
      "                                                                 \n",
      " dense_5 (Dense)             (None, 29)                1189      \n",
      "                                                                 \n",
      "=================================================================\n",
      "Total params: 2,389\n",
      "Trainable params: 2,389\n",
      "Non-trainable params: 0\n",
      "_________________________________________________________________\n"
     ]
    }
   ],
   "source": [
    "# Overcomplete AutoEncoder\n",
    "model = tf.keras.Sequential()\n",
    "model.add(tf.keras.layers.Dense(units=40, activation='linear', input_dim=29))\n",
    "model.add(tf.keras.layers.Dense(units=29, activation='linear'))\n",
    "model.compile(optimizer='adam', loss='mse', metrics=['accuracy'])\n",
    "model.summary()"
   ]
  },
  {
   "cell_type": "code",
   "execution_count": 17,
   "id": "08f40eec",
   "metadata": {},
   "outputs": [
    {
     "name": "stdout",
     "output_type": "stream",
     "text": [
      "Epoch 1/10\n",
      "6676/6676 [==============================] - 7s 985us/step - loss: 0.0531 - accuracy: 0.9328 - val_loss: 2.2231e-04 - val_accuracy: 0.9943\n",
      "Epoch 2/10\n",
      "6676/6676 [==============================] - 7s 994us/step - loss: 8.5570e-04 - accuracy: 0.9919 - val_loss: 0.0063 - val_accuracy: 0.9864\n",
      "Epoch 3/10\n",
      "6676/6676 [==============================] - 7s 1ms/step - loss: 0.0014 - accuracy: 0.9934 - val_loss: 7.3088e-04 - val_accuracy: 0.9885\n",
      "Epoch 4/10\n",
      "6676/6676 [==============================] - 8s 1ms/step - loss: 8.0207e-04 - accuracy: 0.9930 - val_loss: 2.0514e-05 - val_accuracy: 0.9979\n",
      "Epoch 5/10\n",
      "6676/6676 [==============================] - 7s 1ms/step - loss: 9.6159e-04 - accuracy: 0.9934 - val_loss: 4.5906e-05 - val_accuracy: 0.9974\n",
      "Epoch 6/10\n",
      "6676/6676 [==============================] - 7s 1ms/step - loss: 6.6272e-04 - accuracy: 0.9938 - val_loss: 5.8228e-04 - val_accuracy: 0.9898\n",
      "Epoch 7/10\n",
      "6676/6676 [==============================] - 7s 989us/step - loss: 5.7928e-04 - accuracy: 0.9927 - val_loss: 5.9826e-05 - val_accuracy: 0.9956\n",
      "Epoch 8/10\n",
      "6676/6676 [==============================] - 7s 981us/step - loss: 5.7816e-04 - accuracy: 0.9939 - val_loss: 1.2118e-04 - val_accuracy: 0.9933\n",
      "Epoch 9/10\n",
      "6676/6676 [==============================] - 7s 992us/step - loss: 5.7161e-04 - accuracy: 0.9934 - val_loss: 8.8919e-06 - val_accuracy: 0.9987\n",
      "Epoch 10/10\n",
      "6676/6676 [==============================] - 7s 986us/step - loss: 7.2005e-04 - accuracy: 0.9936 - val_loss: 6.2541e-07 - val_accuracy: 0.9996\n"
     ]
    }
   ],
   "source": [
    "n_epochs = 10\n",
    "batch_size = 32\n",
    "history = model.fit(\n",
    "    x=X_train_AE,\n",
    "    y=X_train_AE,\n",
    "    epochs=n_epochs,\n",
    "    batch_size=batch_size,\n",
    "    shuffle=True,\n",
    "    validation_data=(X_train_AE, X_train_AE),\n",
    "    verbose=1)"
   ]
  },
  {
   "cell_type": "code",
   "execution_count": 18,
   "id": "2e8fab21",
   "metadata": {},
   "outputs": [
    {
     "data": {
      "image/png": "[encoded data removed]",
      "text/plain": [
       "<Figure size 432x288 with 1 Axes>"
      ]
     },
     "metadata": {
      "needs_background": "light"
     },
     "output_type": "display_data"
    },
    {
     "name": "stdout",
     "output_type": "stream",
     "text": [
      "Area Under Curve: 0.19\n"
     ]
    }
   ],
   "source": [
    "predictions = model.predict(X_test)\n",
    "anomalyScore = anomalyScores(X_test, predictions)\n",
    "plt_pre(y_test, anomalyScore)"
   ]
  },
  {
   "cell_type": "markdown",
   "id": "56d02197",
   "metadata": {},
   "source": [
    "# Two-layer Undercomplete AutoEncoder"
   ]
  },
  {
   "cell_type": "code",
   "execution_count": 19,
   "id": "2cb64b0a",
   "metadata": {},
   "outputs": [
    {
     "name": "stdout",
     "output_type": "stream",
     "text": [
      "Model: \"sequential_3\"\n",
      "_________________________________________________________________\n",
      " Layer (type)                Output Shape              Param #   \n",
      "=================================================================\n",
      " dense_6 (Dense)             (None, 27)                810       \n",
      "                                                                 \n",
      " dense_7 (Dense)             (None, 20)                560       \n",
      "                                                                 \n",
      " dense_8 (Dense)             (None, 29)                609       \n",
      "                                                                 \n",
      "=================================================================\n",
      "Total params: 1,979\n",
      "Trainable params: 1,979\n",
      "Non-trainable params: 0\n",
      "_________________________________________________________________\n"
     ]
    }
   ],
   "source": [
    "# Two-layer Undercomplete AutoEncoder\n",
    "model = tf.keras.Sequential()\n",
    "model.add(tf.keras.layers.Dense(units=27, activation='linear', input_dim=29))\n",
    "model.add(tf.keras.layers.Dense(units=20, activation='linear'))\n",
    "model.add(tf.keras.layers.Dense(units=29, activation='linear'))\n",
    "model.compile(optimizer='adam', loss='mse', metrics=['accuracy'])\n",
    "model.summary()"
   ]
  },
  {
   "cell_type": "code",
   "execution_count": 20,
   "id": "87362ada",
   "metadata": {},
   "outputs": [
    {
     "name": "stdout",
     "output_type": "stream",
     "text": [
      "Epoch 1/10\n",
      "6676/6676 [==============================] - 7s 1ms/step - loss: 0.3126 - accuracy: 0.5841 - val_loss: 0.2764 - val_accuracy: 0.6116\n",
      "Epoch 2/10\n",
      "6676/6676 [==============================] - 7s 1ms/step - loss: 0.2789 - accuracy: 0.6167 - val_loss: 0.2747 - val_accuracy: 0.6176\n",
      "Epoch 3/10\n",
      "6676/6676 [==============================] - 6s 956us/step - loss: 0.2775 - accuracy: 0.6304 - val_loss: 0.2737 - val_accuracy: 0.6213\n",
      "Epoch 4/10\n",
      "6676/6676 [==============================] - 7s 986us/step - loss: 0.2764 - accuracy: 0.6218 - val_loss: 0.2736 - val_accuracy: 0.6352\n",
      "Epoch 5/10\n",
      "6676/6676 [==============================] - 6s 962us/step - loss: 0.2761 - accuracy: 0.6455 - val_loss: 0.2728 - val_accuracy: 0.6470\n",
      "Epoch 6/10\n",
      "6676/6676 [==============================] - 6s 960us/step - loss: 0.2755 - accuracy: 0.6416 - val_loss: 0.2728 - val_accuracy: 0.6492\n",
      "Epoch 7/10\n",
      "6676/6676 [==============================] - 6s 957us/step - loss: 0.2756 - accuracy: 0.6543 - val_loss: 0.2726 - val_accuracy: 0.6506\n",
      "Epoch 8/10\n",
      "6676/6676 [==============================] - 6s 957us/step - loss: 0.2757 - accuracy: 0.6407 - val_loss: 0.2738 - val_accuracy: 0.6485\n",
      "Epoch 9/10\n",
      "6676/6676 [==============================] - 7s 1ms/step - loss: 0.2751 - accuracy: 0.6524 - val_loss: 0.2722 - val_accuracy: 0.6449\n",
      "Epoch 10/10\n",
      "6676/6676 [==============================] - 8s 1ms/step - loss: 0.2750 - accuracy: 0.6433 - val_loss: 0.2721 - val_accuracy: 0.6458\n"
     ]
    }
   ],
   "source": [
    "n_epochs = 10\n",
    "batch_size = 32\n",
    "history = model.fit(\n",
    "    x=X_train_AE,\n",
    "    y=X_train_AE,\n",
    "    epochs=n_epochs,\n",
    "    batch_size=batch_size,\n",
    "    shuffle=True,\n",
    "    validation_data=(X_train_AE, X_train_AE),\n",
    "    verbose=1)"
   ]
  },
  {
   "cell_type": "code",
   "execution_count": 21,
   "id": "61d4bd7e",
   "metadata": {},
   "outputs": [
    {
     "data": {
      "image/png": "[encoded data removed]",
      "text/plain": [
       "<Figure size 432x288 with 1 Axes>"
      ]
     },
     "metadata": {
      "needs_background": "light"
     },
     "output_type": "display_data"
    },
    {
     "name": "stdout",
     "output_type": "stream",
     "text": [
      "Area Under Curve: 0.04\n"
     ]
    }
   ],
   "source": [
    "predictions = model.predict(X_test)\n",
    "anomalyScore = anomalyScores(X_test, predictions)\n",
    "plt_pre(y_test, anomalyScore)"
   ]
  },
  {
   "cell_type": "markdown",
   "id": "f6174f24",
   "metadata": {},
   "source": [
    "# Two-layer Overcomplete AutoEncoder"
   ]
  },
  {
   "cell_type": "code",
   "execution_count": 22,
   "id": "0cb1f1fa",
   "metadata": {},
   "outputs": [
    {
     "name": "stdout",
     "output_type": "stream",
     "text": [
      "Model: \"sequential_4\"\n",
      "_________________________________________________________________\n",
      " Layer (type)                Output Shape              Param #   \n",
      "=================================================================\n",
      " dense_9 (Dense)             (None, 50)                1500      \n",
      "                                                                 \n",
      " dense_10 (Dense)            (None, 40)                2040      \n",
      "                                                                 \n",
      " dense_11 (Dense)            (None, 29)                1189      \n",
      "                                                                 \n",
      "=================================================================\n",
      "Total params: 4,729\n",
      "Trainable params: 4,729\n",
      "Non-trainable params: 0\n",
      "_________________________________________________________________\n"
     ]
    }
   ],
   "source": [
    "# Two-layer Overcomplete AutoEncoder\n",
    "model = tf.keras.Sequential()\n",
    "model.add(tf.keras.layers.Dense(units=50, activation='linear', input_dim=29))\n",
    "model.add(tf.keras.layers.Dense(units=40, activation='linear'))\n",
    "model.add(tf.keras.layers.Dense(units=29, activation='linear'))\n",
    "model.compile(optimizer='adam', loss='mse', metrics=['accuracy'])\n",
    "model.summary()"
   ]
  },
  {
   "cell_type": "code",
   "execution_count": 23,
   "id": "e403de7c",
   "metadata": {},
   "outputs": [
    {
     "name": "stdout",
     "output_type": "stream",
     "text": [
      "Epoch 1/10\n",
      "6676/6676 [==============================] - 8s 1ms/step - loss: 0.0341 - accuracy: 0.9465 - val_loss: 0.0030 - val_accuracy: 0.9835\n",
      "Epoch 2/10\n",
      "6676/6676 [==============================] - 6s 961us/step - loss: 0.0027 - accuracy: 0.9891 - val_loss: 0.0017 - val_accuracy: 0.9822\n",
      "Epoch 3/10\n",
      "6676/6676 [==============================] - 6s 952us/step - loss: 0.0030 - accuracy: 0.9877 - val_loss: 5.3185e-04 - val_accuracy: 0.9949\n",
      "Epoch 4/10\n",
      "6676/6676 [==============================] - 6s 951us/step - loss: 0.0021 - accuracy: 0.9870 - val_loss: 0.0052 - val_accuracy: 0.9790\n",
      "Epoch 5/10\n",
      "6676/6676 [==============================] - 6s 940us/step - loss: 0.0019 - accuracy: 0.9890 - val_loss: 1.7991e-06 - val_accuracy: 0.9996\n",
      "Epoch 6/10\n",
      "6676/6676 [==============================] - 6s 953us/step - loss: 0.0025 - accuracy: 0.9889 - val_loss: 2.7305e-06 - val_accuracy: 0.9995\n",
      "Epoch 7/10\n",
      "6676/6676 [==============================] - 6s 961us/step - loss: 0.0017 - accuracy: 0.9888 - val_loss: 2.0589e-04 - val_accuracy: 0.9930\n",
      "Epoch 8/10\n",
      "6676/6676 [==============================] - 6s 967us/step - loss: 0.0018 - accuracy: 0.9881 - val_loss: 9.3601e-06 - val_accuracy: 0.9985\n",
      "Epoch 9/10\n",
      "6676/6676 [==============================] - 7s 1ms/step - loss: 0.0015 - accuracy: 0.9887 - val_loss: 0.0022 - val_accuracy: 0.9901\n",
      "Epoch 10/10\n",
      "6676/6676 [==============================] - 7s 994us/step - loss: 0.0015 - accuracy: 0.9892 - val_loss: 5.6536e-05 - val_accuracy: 0.9953\n"
     ]
    }
   ],
   "source": [
    "n_epochs = 10\n",
    "batch_size = 32\n",
    "history = model.fit(\n",
    "    x=X_train_AE,\n",
    "    y=X_train_AE,\n",
    "    epochs=n_epochs,\n",
    "    batch_size=batch_size,\n",
    "    shuffle=True,\n",
    "    validation_data=(X_train_AE, X_train_AE),\n",
    "    verbose=1)"
   ]
  },
  {
   "cell_type": "code",
   "execution_count": 24,
   "id": "6ae101c7",
   "metadata": {},
   "outputs": [
    {
     "data": {
      "image/png": "[encoded data removed]",
      "text/plain": [
       "<Figure size 432x288 with 1 Axes>"
      ]
     },
     "metadata": {
      "needs_background": "light"
     },
     "output_type": "display_data"
    },
    {
     "name": "stdout",
     "output_type": "stream",
     "text": [
      "Area Under Curve: 0.14\n"
     ]
    }
   ],
   "source": [
    "predictions = model.predict(X_test)\n",
    "anomalyScore = anomalyScores(X_test, predictions)\n",
    "plt_pre(y_test, anomalyScore)"
   ]
  },
  {
   "cell_type": "markdown",
   "id": "ec937326",
   "metadata": {},
   "source": [
    "# Overcomplete AutoEncoder with Dropout (0.1)"
   ]
  },
  {
   "cell_type": "code",
   "execution_count": 25,
   "id": "24768c68",
   "metadata": {},
   "outputs": [
    {
     "name": "stdout",
     "output_type": "stream",
     "text": [
      "Model: \"sequential_5\"\n",
      "_________________________________________________________________\n",
      " Layer (type)                Output Shape              Param #   \n",
      "=================================================================\n",
      " dense_12 (Dense)            (None, 40)                1200      \n",
      "                                                                 \n",
      " dropout (Dropout)           (None, 40)                0         \n",
      "                                                                 \n",
      " dense_13 (Dense)            (None, 29)                1189      \n",
      "                                                                 \n",
      "=================================================================\n",
      "Total params: 2,389\n",
      "Trainable params: 2,389\n",
      "Non-trainable params: 0\n",
      "_________________________________________________________________\n"
     ]
    }
   ],
   "source": [
    "# Overcomplete AutoEncoder with Dropout(0.1)\n",
    "model = tf.keras.Sequential()\n",
    "model.add(tf.keras.layers.Dense(units=40, activation='linear', input_dim=29))\n",
    "model.add(tf.keras.layers.Dropout(rate=0.1))\n",
    "model.add(tf.keras.layers.Dense(units=29, activation='linear'))\n",
    "model.compile(optimizer='adam', loss='mse', metrics=['accuracy'])\n",
    "model.summary()"
   ]
  },
  {
   "cell_type": "code",
   "execution_count": 26,
   "id": "8f995fde",
   "metadata": {},
   "outputs": [
    {
     "name": "stdout",
     "output_type": "stream",
     "text": [
      "Epoch 1/10\n",
      "6676/6676 [==============================] - 7s 968us/step - loss: 0.1347 - accuracy: 0.7424 - val_loss: 0.0083 - val_accuracy: 0.9757\n",
      "Epoch 2/10\n",
      "6676/6676 [==============================] - 6s 954us/step - loss: 0.0771 - accuracy: 0.7854 - val_loss: 0.0076 - val_accuracy: 0.9733\n",
      "Epoch 3/10\n",
      "6676/6676 [==============================] - 6s 951us/step - loss: 0.0780 - accuracy: 0.7868 - val_loss: 0.0074 - val_accuracy: 0.9751\n",
      "Epoch 4/10\n",
      "6676/6676 [==============================] - 6s 947us/step - loss: 0.0761 - accuracy: 0.7862 - val_loss: 0.0069 - val_accuracy: 0.9790\n",
      "Epoch 5/10\n",
      "6676/6676 [==============================] - 6s 939us/step - loss: 0.0759 - accuracy: 0.7879 - val_loss: 0.0074 - val_accuracy: 0.9767\n",
      "Epoch 6/10\n",
      "6676/6676 [==============================] - 6s 937us/step - loss: 0.0764 - accuracy: 0.7866 - val_loss: 0.0106 - val_accuracy: 0.9674\n",
      "Epoch 7/10\n",
      "6676/6676 [==============================] - 6s 952us/step - loss: 0.0766 - accuracy: 0.7866 - val_loss: 0.0063 - val_accuracy: 0.9812\n",
      "Epoch 8/10\n",
      "6676/6676 [==============================] - 6s 945us/step - loss: 0.0788 - accuracy: 0.7866 - val_loss: 0.0098 - val_accuracy: 0.9649\n",
      "Epoch 9/10\n",
      "6676/6676 [==============================] - 6s 944us/step - loss: 0.0771 - accuracy: 0.7865 - val_loss: 0.0080 - val_accuracy: 0.9736\n",
      "Epoch 10/10\n",
      "6676/6676 [==============================] - 6s 947us/step - loss: 0.0767 - accuracy: 0.7860 - val_loss: 0.0098 - val_accuracy: 0.9637\n"
     ]
    }
   ],
   "source": [
    "n_epochs = 10\n",
    "batch_size = 32\n",
    "history = model.fit(\n",
    "    x=X_train_AE,\n",
    "    y=X_train_AE,\n",
    "    epochs=n_epochs,\n",
    "    batch_size=batch_size,\n",
    "    shuffle=True,\n",
    "    validation_data=(X_train_AE, X_train_AE),\n",
    "    verbose=1)"
   ]
  },
  {
   "cell_type": "code",
   "execution_count": 27,
   "id": "2991639d",
   "metadata": {},
   "outputs": [
    {
     "data": {
      "image/png": "[encoded data removed]",
      "text/plain": [
       "<Figure size 432x288 with 1 Axes>"
      ]
     },
     "metadata": {
      "needs_background": "light"
     },
     "output_type": "display_data"
    },
    {
     "name": "stdout",
     "output_type": "stream",
     "text": [
      "Area Under Curve: 0.1\n"
     ]
    }
   ],
   "source": [
    "predictions = model.predict(X_test)\n",
    "anomalyScore = anomalyScores(X_test, predictions)\n",
    "plt_pre(y_test, anomalyScore)"
   ]
  },
  {
   "cell_type": "markdown",
   "id": "4f3341c5",
   "metadata": {},
   "source": [
    "# Overcomplete AutoEncoder with Dropout(0.2)"
   ]
  },
  {
   "cell_type": "code",
   "execution_count": 28,
   "id": "3e1aa9a7",
   "metadata": {},
   "outputs": [
    {
     "name": "stdout",
     "output_type": "stream",
     "text": [
      "Model: \"sequential_6\"\n",
      "_________________________________________________________________\n",
      " Layer (type)                Output Shape              Param #   \n",
      "=================================================================\n",
      " dense_14 (Dense)            (None, 40)                1200      \n",
      "                                                                 \n",
      " dropout_1 (Dropout)         (None, 40)                0         \n",
      "                                                                 \n",
      " dense_15 (Dense)            (None, 29)                1189      \n",
      "                                                                 \n",
      "=================================================================\n",
      "Total params: 2,389\n",
      "Trainable params: 2,389\n",
      "Non-trainable params: 0\n",
      "_________________________________________________________________\n"
     ]
    }
   ],
   "source": [
    "# Overcomplete AutoEncoder with Dropout(0.2)\n",
    "model = tf.keras.Sequential()\n",
    "model.add(tf.keras.layers.Dense(units=40, activation='linear', input_dim=29))\n",
    "model.add(tf.keras.layers.Dropout(rate=0.1))\n",
    "model.add(tf.keras.layers.Dense(units=29, activation='linear'))\n",
    "model.compile(optimizer='adam', loss='mse', metrics=['accuracy'])\n",
    "model.summary()"
   ]
  },
  {
   "cell_type": "code",
   "execution_count": 29,
   "id": "9d0807af",
   "metadata": {},
   "outputs": [
    {
     "name": "stdout",
     "output_type": "stream",
     "text": [
      "Epoch 1/10\n",
      "6676/6676 [==============================] - 7s 961us/step - loss: 0.1364 - accuracy: 0.7427 - val_loss: 0.0091 - val_accuracy: 0.9734\n",
      "Epoch 2/10\n",
      "6676/6676 [==============================] - 6s 956us/step - loss: 0.0763 - accuracy: 0.7847 - val_loss: 0.0080 - val_accuracy: 0.9731\n",
      "Epoch 3/10\n",
      "6676/6676 [==============================] - 6s 946us/step - loss: 0.0763 - accuracy: 0.7862 - val_loss: 0.0087 - val_accuracy: 0.9678\n",
      "Epoch 4/10\n",
      "6676/6676 [==============================] - 6s 953us/step - loss: 0.0761 - accuracy: 0.7862 - val_loss: 0.0089 - val_accuracy: 0.9704\n",
      "Epoch 5/10\n",
      "6676/6676 [==============================] - 6s 947us/step - loss: 0.0772 - accuracy: 0.7854 - val_loss: 0.0069 - val_accuracy: 0.9802\n",
      "Epoch 6/10\n",
      "6676/6676 [==============================] - 6s 954us/step - loss: 0.0771 - accuracy: 0.7837 - val_loss: 0.0072 - val_accuracy: 0.9766\n",
      "Epoch 7/10\n",
      "6676/6676 [==============================] - 6s 947us/step - loss: 0.0759 - accuracy: 0.7850 - val_loss: 0.0070 - val_accuracy: 0.9746\n",
      "Epoch 8/10\n",
      "6676/6676 [==============================] - 6s 944us/step - loss: 0.0748 - accuracy: 0.7849 - val_loss: 0.0070 - val_accuracy: 0.9785\n",
      "Epoch 9/10\n",
      "6676/6676 [==============================] - 6s 948us/step - loss: 0.0761 - accuracy: 0.7845 - val_loss: 0.0068 - val_accuracy: 0.9766\n",
      "Epoch 10/10\n",
      "6676/6676 [==============================] - 6s 945us/step - loss: 0.0762 - accuracy: 0.7843 - val_loss: 0.0069 - val_accuracy: 0.9771\n"
     ]
    }
   ],
   "source": [
    "n_epochs = 10\n",
    "batch_size = 32\n",
    "history = model.fit(\n",
    "    x=X_train_AE,\n",
    "    y=X_train_AE,\n",
    "    epochs=n_epochs,\n",
    "    batch_size=batch_size,\n",
    "    shuffle=True,\n",
    "    validation_data=(X_train_AE, X_train_AE),\n",
    "    verbose=1)"
   ]
  },
  {
   "cell_type": "code",
   "execution_count": 30,
   "id": "0456b956",
   "metadata": {},
   "outputs": [
    {
     "data": {
      "image/png": "[encoded data removed]",
      "text/plain": [
       "<Figure size 432x288 with 1 Axes>"
      ]
     },
     "metadata": {
      "needs_background": "light"
     },
     "output_type": "display_data"
    },
    {
     "name": "stdout",
     "output_type": "stream",
     "text": [
      "Area Under Curve: 0.16\n"
     ]
    }
   ],
   "source": [
    "predictions = model.predict(X_test)\n",
    "anomalyScore = anomalyScores(X_test, predictions)\n",
    "plt_pre(y_test, anomalyScore)"
   ]
  },
  {
   "cell_type": "markdown",
   "id": "fd33ffa3",
   "metadata": {},
   "source": [
    "# Overcomplete Sparse (10e-5) AutoEncoder"
   ]
  },
  {
   "cell_type": "code",
   "execution_count": 31,
   "id": "51e11979",
   "metadata": {},
   "outputs": [
    {
     "name": "stdout",
     "output_type": "stream",
     "text": [
      "Model: \"sequential_7\"\n",
      "_________________________________________________________________\n",
      " Layer (type)                Output Shape              Param #   \n",
      "=================================================================\n",
      " dense_16 (Dense)            (None, 40)                1200      \n",
      "                                                                 \n",
      " dense_17 (Dense)            (None, 29)                1189      \n",
      "                                                                 \n",
      "=================================================================\n",
      "Total params: 2,389\n",
      "Trainable params: 2,389\n",
      "Non-trainable params: 0\n",
      "_________________________________________________________________\n"
     ]
    }
   ],
   "source": [
    "# Overcomplete Sparse (10e-5) AutoEncoder\n",
    "model = tf.keras.Sequential()\n",
    "model.add(tf.keras.layers.Dense(units=40, activation='linear', input_dim=29, activity_regularizer=tf.keras.regularizers.L1(10e-5)))\n",
    "model.add(tf.keras.layers.Dense(units=29, activation='linear'))\n",
    "model.compile(optimizer='adam', loss='mse', metrics=['accuracy'])\n",
    "model.summary()"
   ]
  },
  {
   "cell_type": "code",
   "execution_count": 32,
   "id": "d7ed923d",
   "metadata": {},
   "outputs": [
    {
     "name": "stdout",
     "output_type": "stream",
     "text": [
      "Epoch 1/10\n",
      "6676/6676 [==============================] - 6s 933us/step - loss: 0.0581 - accuracy: 0.9275 - val_loss: 0.0031 - val_accuracy: 0.9908\n",
      "Epoch 2/10\n",
      "6676/6676 [==============================] - 6s 916us/step - loss: 0.0036 - accuracy: 0.9935 - val_loss: 0.0024 - val_accuracy: 0.9978\n",
      "Epoch 3/10\n",
      "6676/6676 [==============================] - 6s 925us/step - loss: 0.0029 - accuracy: 0.9920 - val_loss: 0.0019 - val_accuracy: 0.9992\n",
      "Epoch 4/10\n",
      "6676/6676 [==============================] - 6s 919us/step - loss: 0.0026 - accuracy: 0.9930 - val_loss: 0.0018 - val_accuracy: 0.9939\n",
      "Epoch 5/10\n",
      "6676/6676 [==============================] - 6s 920us/step - loss: 0.0028 - accuracy: 0.9919 - val_loss: 0.0015 - val_accuracy: 0.9993\n",
      "Epoch 6/10\n",
      "6676/6676 [==============================] - 6s 923us/step - loss: 0.0028 - accuracy: 0.9925 - val_loss: 0.0015 - val_accuracy: 0.9982\n",
      "Epoch 7/10\n",
      "6676/6676 [==============================] - 6s 928us/step - loss: 0.0025 - accuracy: 0.9925 - val_loss: 0.0042 - val_accuracy: 0.9854\n",
      "Epoch 8/10\n",
      "6676/6676 [==============================] - 6s 963us/step - loss: 0.0024 - accuracy: 0.9914 - val_loss: 0.0013 - val_accuracy: 0.9987\n",
      "Epoch 9/10\n",
      "6676/6676 [==============================] - 6s 932us/step - loss: 0.0025 - accuracy: 0.9901 - val_loss: 0.0016 - val_accuracy: 0.9948\n",
      "Epoch 10/10\n",
      "6676/6676 [==============================] - 6s 911us/step - loss: 0.0023 - accuracy: 0.9910 - val_loss: 0.0016 - val_accuracy: 0.9954\n"
     ]
    }
   ],
   "source": [
    "# Sparsity means most of the neurons are inactive\n",
    "# Hence, it can be used as a regulation\n",
    "n_epochs = 10\n",
    "batch_size = 32\n",
    "history = model.fit(\n",
    "    x=X_train_AE,\n",
    "    y=X_train_AE,\n",
    "    epochs=n_epochs,\n",
    "    batch_size=batch_size,\n",
    "    shuffle=True,\n",
    "    validation_data=(X_train_AE, X_train_AE),\n",
    "    verbose=1)"
   ]
  },
  {
   "cell_type": "code",
   "execution_count": 33,
   "id": "4de8832b",
   "metadata": {},
   "outputs": [
    {
     "data": {
      "image/png": "[encoded data removed]",
      "text/plain": [
       "<Figure size 432x288 with 1 Axes>"
      ]
     },
     "metadata": {
      "needs_background": "light"
     },
     "output_type": "display_data"
    },
    {
     "name": "stdout",
     "output_type": "stream",
     "text": [
      "Area Under Curve: 0.59\n"
     ]
    }
   ],
   "source": [
    "predictions = model.predict(X_test)\n",
    "anomalyScore = anomalyScores(X_test, predictions)\n",
    "plt_pre(y_test, anomalyScore)"
   ]
  },
  {
   "cell_type": "markdown",
   "id": "b88495e4",
   "metadata": {},
   "source": [
    "# Overcomplete Sparse (10e-4) AutoEncoder"
   ]
  },
  {
   "cell_type": "code",
   "execution_count": 16,
   "id": "562caf6d",
   "metadata": {},
   "outputs": [
    {
     "name": "stdout",
     "output_type": "stream",
     "text": [
      "Model: \"sequential_2\"\n",
      "_________________________________________________________________\n",
      " Layer (type)                Output Shape              Param #   \n",
      "=================================================================\n",
      " dense_4 (Dense)             (None, 40)                1200      \n",
      "                                                                 \n",
      " dense_5 (Dense)             (None, 29)                1189      \n",
      "                                                                 \n",
      "=================================================================\n",
      "Total params: 2,389\n",
      "Trainable params: 2,389\n",
      "Non-trainable params: 0\n",
      "_________________________________________________________________\n"
     ]
    }
   ],
   "source": [
    "# Overcomplete Sparse (10e-4) AutoEncoder\n",
    "model = tf.keras.Sequential()\n",
    "model.add(tf.keras.layers.Dense(units=40, activation='linear', input_dim=29, activity_regularizer=tf.keras.regularizers.L1(10e-4)))\n",
    "model.add(tf.keras.layers.Dense(units=29, activation='linear'))\n",
    "model.compile(optimizer='adam', loss='mse', metrics=['accuracy'])\n",
    "model.summary()"
   ]
  },
  {
   "cell_type": "code",
   "execution_count": 17,
   "id": "f6323dd5",
   "metadata": {},
   "outputs": [
    {
     "name": "stdout",
     "output_type": "stream",
     "text": [
      "Epoch 1/10\n",
      "6676/6676 [==============================] - 6s 933us/step - loss: 0.0692 - accuracy: 0.9371 - val_loss: 0.0145 - val_accuracy: 0.9961\n",
      "Epoch 2/10\n",
      "6676/6676 [==============================] - 6s 924us/step - loss: 0.0128 - accuracy: 0.9895 - val_loss: 0.0096 - val_accuracy: 0.9924\n",
      "Epoch 3/10\n",
      "6676/6676 [==============================] - 6s 931us/step - loss: 0.0103 - accuracy: 0.9879 - val_loss: 0.0082 - val_accuracy: 0.9868\n",
      "Epoch 4/10\n",
      "6676/6676 [==============================] - 6s 935us/step - loss: 0.0093 - accuracy: 0.9863 - val_loss: 0.0145 - val_accuracy: 0.9646\n",
      "Epoch 5/10\n",
      "6676/6676 [==============================] - 6s 929us/step - loss: 0.0088 - accuracy: 0.9828 - val_loss: 0.0270 - val_accuracy: 0.9169\n",
      "Epoch 6/10\n",
      "6676/6676 [==============================] - 6s 938us/step - loss: 0.0084 - accuracy: 0.9851 - val_loss: 0.0055 - val_accuracy: 0.9979\n",
      "Epoch 7/10\n",
      "6676/6676 [==============================] - 6s 946us/step - loss: 0.0082 - accuracy: 0.9853 - val_loss: 0.0057 - val_accuracy: 0.9899\n",
      "Epoch 8/10\n",
      "6676/6676 [==============================] - 6s 932us/step - loss: 0.0087 - accuracy: 0.9848 - val_loss: 0.0121 - val_accuracy: 0.9817\n",
      "Epoch 9/10\n",
      "6676/6676 [==============================] - 6s 930us/step - loss: 0.0083 - accuracy: 0.9844 - val_loss: 0.0049 - val_accuracy: 0.9981\n",
      "Epoch 10/10\n",
      "6676/6676 [==============================] - 6s 923us/step - loss: 0.0079 - accuracy: 0.9859 - val_loss: 0.0052 - val_accuracy: 0.9909\n"
     ]
    }
   ],
   "source": [
    "# Sparsity means most of the neurons are inactive\n",
    "# Hence, it can be used as a regulation\n",
    "n_epochs = 10\n",
    "batch_size = 32\n",
    "history = model.fit(\n",
    "    x=X_train_AE,\n",
    "    y=X_train_AE,\n",
    "    epochs=n_epochs,\n",
    "    batch_size=batch_size,\n",
    "    shuffle=True,\n",
    "    validation_data=(X_train_AE, X_train_AE),\n",
    "    verbose=1)"
   ]
  },
  {
   "cell_type": "code",
   "execution_count": 18,
   "id": "cd00de3c",
   "metadata": {},
   "outputs": [
    {
     "data": {
      "image/png": "[encoded data removed]",
      "text/plain": [
       "<Figure size 432x288 with 1 Axes>"
      ]
     },
     "metadata": {
      "needs_background": "light"
     },
     "output_type": "display_data"
    },
    {
     "name": "stdout",
     "output_type": "stream",
     "text": [
      "Area Under Curve: 0.02\n"
     ]
    }
   ],
   "source": [
    "predictions = model.predict(X_test)\n",
    "anomalyScore = anomalyScores(X_test, predictions)\n",
    "plt_pre(y_test, anomalyScore)"
   ]
  },
  {
   "cell_type": "markdown",
   "id": "2f1ae1b7",
   "metadata": {},
   "source": [
    "# Overcomplete Sparse (10e-3) AutoEncoder"
   ]
  },
  {
   "cell_type": "code",
   "execution_count": 37,
   "id": "cb5079ca",
   "metadata": {},
   "outputs": [
    {
     "name": "stdout",
     "output_type": "stream",
     "text": [
      "Model: \"sequential_9\"\n",
      "_________________________________________________________________\n",
      " Layer (type)                Output Shape              Param #   \n",
      "=================================================================\n",
      " dense_20 (Dense)            (None, 40)                1200      \n",
      "                                                                 \n",
      " dense_21 (Dense)            (None, 29)                1189      \n",
      "                                                                 \n",
      "=================================================================\n",
      "Total params: 2,389\n",
      "Trainable params: 2,389\n",
      "Non-trainable params: 0\n",
      "_________________________________________________________________\n"
     ]
    }
   ],
   "source": [
    "# Overcomplete Sparse (10e-3) AutoEncoder\n",
    "model = tf.keras.Sequential()\n",
    "model.add(tf.keras.layers.Dense(units=40, activation='linear', input_dim=29, activity_regularizer=tf.keras.regularizers.L1(10e-3)))\n",
    "model.add(tf.keras.layers.Dense(units=29, activation='linear'))\n",
    "model.compile(optimizer='adam', loss='mse', metrics=['accuracy'])\n",
    "model.summary()"
   ]
  },
  {
   "cell_type": "code",
   "execution_count": 38,
   "id": "c6dbe0bd",
   "metadata": {},
   "outputs": [
    {
     "name": "stdout",
     "output_type": "stream",
     "text": [
      "Epoch 1/10\n",
      "6676/6676 [==============================] - 7s 982us/step - loss: 0.1878 - accuracy: 0.9195 - val_loss: 0.0680 - val_accuracy: 0.9849\n",
      "Epoch 2/10\n",
      "6676/6676 [==============================] - 6s 958us/step - loss: 0.0556 - accuracy: 0.9745 - val_loss: 0.0410 - val_accuracy: 0.9882\n",
      "Epoch 3/10\n",
      "6676/6676 [==============================] - 6s 953us/step - loss: 0.0432 - accuracy: 0.9715 - val_loss: 0.0328 - val_accuracy: 0.9899\n",
      "Epoch 4/10\n",
      "6676/6676 [==============================] - 6s 952us/step - loss: 0.0390 - accuracy: 0.9718 - val_loss: 0.0285 - val_accuracy: 0.9877\n",
      "Epoch 5/10\n",
      "6676/6676 [==============================] - 6s 951us/step - loss: 0.0367 - accuracy: 0.9708 - val_loss: 0.0262 - val_accuracy: 0.9884\n",
      "Epoch 6/10\n",
      "6676/6676 [==============================] - 6s 957us/step - loss: 0.0366 - accuracy: 0.9696 - val_loss: 0.0249 - val_accuracy: 0.9887\n",
      "Epoch 7/10\n",
      "6676/6676 [==============================] - 6s 954us/step - loss: 0.0388 - accuracy: 0.9685 - val_loss: 0.0252 - val_accuracy: 0.9899\n",
      "Epoch 8/10\n",
      "6676/6676 [==============================] - 6s 958us/step - loss: 0.0347 - accuracy: 0.9690 - val_loss: 0.0238 - val_accuracy: 0.9912\n",
      "Epoch 9/10\n",
      "6676/6676 [==============================] - 6s 963us/step - loss: 0.0337 - accuracy: 0.9717 - val_loss: 0.0329 - val_accuracy: 0.9348\n",
      "Epoch 10/10\n",
      "6676/6676 [==============================] - 6s 961us/step - loss: 0.0354 - accuracy: 0.9651 - val_loss: 0.0219 - val_accuracy: 0.9854\n"
     ]
    }
   ],
   "source": [
    "# Sparsity means most of the neurons are inactive\n",
    "# Hence, it can be used as a regulation\n",
    "n_epochs = 10\n",
    "batch_size = 32\n",
    "history = model.fit(\n",
    "    x=X_train_AE,\n",
    "    y=X_train_AE,\n",
    "    epochs=n_epochs,\n",
    "    batch_size=batch_size,\n",
    "    shuffle=True,\n",
    "    validation_data=(X_train_AE, X_train_AE),\n",
    "    verbose=1)"
   ]
  },
  {
   "cell_type": "code",
   "execution_count": 39,
   "id": "1aff52dd",
   "metadata": {},
   "outputs": [
    {
     "data": {
      "image/png": "[encoded data removed]",
      "text/plain": [
       "<Figure size 432x288 with 1 Axes>"
      ]
     },
     "metadata": {
      "needs_background": "light"
     },
     "output_type": "display_data"
    },
    {
     "name": "stdout",
     "output_type": "stream",
     "text": [
      "Area Under Curve: 0.23\n"
     ]
    }
   ],
   "source": [
    "predictions = model.predict(X_test)\n",
    "anomalyScore = anomalyScores(X_test, predictions)\n",
    "plt_pre(y_test, anomalyScore)"
   ]
  },
  {
   "cell_type": "code",
   "execution_count": 40,
   "id": "7ac0eb46",
   "metadata": {},
   "outputs": [
    {
     "data": {
      "image/png": "[encoded data removed]",
      "text/plain": [
       "<Figure size 432x288 with 1 Axes>"
      ]
     },
     "metadata": {
      "needs_background": "light"
     },
     "output_type": "display_data"
    },
    {
     "name": "stdout",
     "output_type": "stream",
     "text": [
      "Area Under Curve: 0.26\n"
     ]
    }
   ],
   "source": [
    "predictions = model.predict(X_train)\n",
    "anomalyScore = anomalyScores(X_train, predictions)\n",
    "plt_pre(y_train, anomalyScore)"
   ]
  },
  {
   "cell_type": "markdown",
   "id": "1e3946f5",
   "metadata": {},
   "source": [
    "# Overcomplete Sparse (10e-2) AutoEncoder"
   ]
  },
  {
   "cell_type": "code",
   "execution_count": 20,
   "id": "50e4ac22",
   "metadata": {},
   "outputs": [
    {
     "name": "stdout",
     "output_type": "stream",
     "text": [
      "Model: \"sequential_4\"\n",
      "_________________________________________________________________\n",
      " Layer (type)                Output Shape              Param #   \n",
      "=================================================================\n",
      " dense_8 (Dense)             (None, 40)                1200      \n",
      "                                                                 \n",
      " dense_9 (Dense)             (None, 29)                1189      \n",
      "                                                                 \n",
      "=================================================================\n",
      "Total params: 2,389\n",
      "Trainable params: 2,389\n",
      "Non-trainable params: 0\n",
      "_________________________________________________________________\n"
     ]
    }
   ],
   "source": [
    "# Overcomplete Sparse (10e-2) AutoEncoder\n",
    "model = tf.keras.Sequential()\n",
    "model.add(tf.keras.layers.Dense(units=40, activation='linear', input_dim=29, activity_regularizer=tf.keras.regularizers.L1(10e-2)))\n",
    "model.add(tf.keras.layers.Dense(units=29, activation='linear'))\n",
    "model.compile(optimizer='adam', loss='mse', metrics=['accuracy'])\n",
    "model.summary()"
   ]
  },
  {
   "cell_type": "code",
   "execution_count": 21,
   "id": "3c9c1734",
   "metadata": {},
   "outputs": [
    {
     "name": "stdout",
     "output_type": "stream",
     "text": [
      "Epoch 1/10\n",
      "6676/6676 [==============================] - 6s 932us/step - loss: 0.8063 - accuracy: 0.4167 - val_loss: 0.3833 - val_accuracy: 0.7399\n",
      "Epoch 2/10\n",
      "6676/6676 [==============================] - 6s 905us/step - loss: 0.2586 - accuracy: 0.8847 - val_loss: 0.1997 - val_accuracy: 0.9062\n",
      "Epoch 3/10\n",
      "6676/6676 [==============================] - 6s 907us/step - loss: 0.1717 - accuracy: 0.9282 - val_loss: 0.1504 - val_accuracy: 0.9285\n",
      "Epoch 4/10\n",
      "6676/6676 [==============================] - 6s 913us/step - loss: 0.1582 - accuracy: 0.9268 - val_loss: 0.1192 - val_accuracy: 0.9538\n",
      "Epoch 5/10\n",
      "6676/6676 [==============================] - 6s 923us/step - loss: 0.1425 - accuracy: 0.9338 - val_loss: 0.1114 - val_accuracy: 0.9594\n",
      "Epoch 6/10\n",
      "6676/6676 [==============================] - 6s 899us/step - loss: 0.1333 - accuracy: 0.9316 - val_loss: 0.1955 - val_accuracy: 0.8485\n",
      "Epoch 7/10\n",
      "6676/6676 [==============================] - 6s 900us/step - loss: 0.1365 - accuracy: 0.9344 - val_loss: 0.0975 - val_accuracy: 0.9644\n",
      "Epoch 8/10\n",
      "6676/6676 [==============================] - 6s 899us/step - loss: 0.1284 - accuracy: 0.9366 - val_loss: 0.1207 - val_accuracy: 0.9251\n",
      "Epoch 9/10\n",
      "6676/6676 [==============================] - 6s 903us/step - loss: 0.2502 - accuracy: 0.9338 - val_loss: 0.0983 - val_accuracy: 0.9654\n",
      "Epoch 10/10\n",
      "6676/6676 [==============================] - 6s 903us/step - loss: 0.1240 - accuracy: 0.9318 - val_loss: 0.0908 - val_accuracy: 0.9650\n"
     ]
    }
   ],
   "source": [
    "# Sparsity means most of the neurons are inactive\n",
    "# Hence, it can be used as a regulation\n",
    "n_epochs = 10\n",
    "batch_size = 32\n",
    "history = model.fit(\n",
    "    x=X_train_AE,\n",
    "    y=X_train_AE,\n",
    "    epochs=n_epochs,\n",
    "    batch_size=batch_size,\n",
    "    shuffle=True,\n",
    "    validation_data=(X_train_AE, X_train_AE),\n",
    "    verbose=1)"
   ]
  },
  {
   "cell_type": "code",
   "execution_count": 22,
   "id": "d7f6fc74",
   "metadata": {},
   "outputs": [
    {
     "data": {
      "image/png": "[encoded data removed]",
      "text/plain": [
       "<Figure size 432x288 with 1 Axes>"
      ]
     },
     "metadata": {
      "needs_background": "light"
     },
     "output_type": "display_data"
    },
    {
     "name": "stdout",
     "output_type": "stream",
     "text": [
      "Area Under Curve: 0.63\n"
     ]
    }
   ],
   "source": [
    "predictions = model.predict(X_test)\n",
    "anomalyScore = anomalyScores(X_test, predictions)\n",
    "plt_pre(y_test, anomalyScore)"
   ]
  },
  {
   "cell_type": "code",
   "execution_count": 23,
   "id": "1f554e9c",
   "metadata": {},
   "outputs": [
    {
     "data": {
      "image/png": "[encoded data removed]",
      "text/plain": [
       "<Figure size 432x288 with 1 Axes>"
      ]
     },
     "metadata": {
      "needs_background": "light"
     },
     "output_type": "display_data"
    },
    {
     "name": "stdout",
     "output_type": "stream",
     "text": [
      "Area Under Curve: 0.64\n"
     ]
    }
   ],
   "source": [
    "predictions = model.predict(X_train)\n",
    "anomalyScore = anomalyScores(X_train, predictions)\n",
    "plt_pre(y_train, anomalyScore)"
   ]
  },
  {
   "cell_type": "markdown",
   "id": "3d412a1a",
   "metadata": {},
   "source": [
    "# Overcomplete Sparse (10e-1) AutoEncoder"
   ]
  },
  {
   "cell_type": "code",
   "execution_count": 45,
   "id": "125ad243",
   "metadata": {},
   "outputs": [
    {
     "name": "stdout",
     "output_type": "stream",
     "text": [
      "Model: \"sequential_11\"\n",
      "_________________________________________________________________\n",
      " Layer (type)                Output Shape              Param #   \n",
      "=================================================================\n",
      " dense_24 (Dense)            (None, 40)                1200      \n",
      "                                                                 \n",
      " dense_25 (Dense)            (None, 29)                1189      \n",
      "                                                                 \n",
      "=================================================================\n",
      "Total params: 2,389\n",
      "Trainable params: 2,389\n",
      "Non-trainable params: 0\n",
      "_________________________________________________________________\n"
     ]
    }
   ],
   "source": [
    "# Overcomplete Sparse (10e-1) AutoEncoder\n",
    "model = tf.keras.Sequential()\n",
    "model.add(tf.keras.layers.Dense(units=40, activation='linear', input_dim=29, activity_regularizer=tf.keras.regularizers.L1(10e-1)))\n",
    "model.add(tf.keras.layers.Dense(units=29, activation='linear'))\n",
    "model.compile(optimizer='adam', loss='mse', metrics=['accuracy'])\n",
    "model.summary()"
   ]
  },
  {
   "cell_type": "code",
   "execution_count": 46,
   "id": "3304013c",
   "metadata": {},
   "outputs": [
    {
     "name": "stdout",
     "output_type": "stream",
     "text": [
      "Epoch 1/10\n",
      "6676/6676 [==============================] - 7s 961us/step - loss: 1.7089 - accuracy: 0.0454 - val_loss: 1.0667 - val_accuracy: 0.0544\n",
      "Epoch 2/10\n",
      "6676/6676 [==============================] - 6s 952us/step - loss: 1.0694 - accuracy: 0.0507 - val_loss: 1.0864 - val_accuracy: 0.0579\n",
      "Epoch 3/10\n",
      "6676/6676 [==============================] - 6s 935us/step - loss: 1.0489 - accuracy: 0.0627 - val_loss: 1.0407 - val_accuracy: 0.0939\n",
      "Epoch 4/10\n",
      "6676/6676 [==============================] - 6s 944us/step - loss: 1.0118 - accuracy: 0.0931 - val_loss: 1.0024 - val_accuracy: 0.1070\n",
      "Epoch 5/10\n",
      "6676/6676 [==============================] - 6s 936us/step - loss: 0.9728 - accuracy: 0.1036 - val_loss: 0.9085 - val_accuracy: 0.1075\n",
      "Epoch 6/10\n",
      "6676/6676 [==============================] - 6s 948us/step - loss: 0.9427 - accuracy: 0.1167 - val_loss: 0.8760 - val_accuracy: 0.1315\n",
      "Epoch 7/10\n",
      "6676/6676 [==============================] - 6s 932us/step - loss: 0.8996 - accuracy: 0.1416 - val_loss: 0.8810 - val_accuracy: 0.1496\n",
      "Epoch 8/10\n",
      "6676/6676 [==============================] - 6s 934us/step - loss: 0.8634 - accuracy: 0.1612 - val_loss: 0.8082 - val_accuracy: 0.1790\n",
      "Epoch 9/10\n",
      "6676/6676 [==============================] - 6s 936us/step - loss: 0.8510 - accuracy: 0.2147 - val_loss: 0.7803 - val_accuracy: 0.2524\n",
      "Epoch 10/10\n",
      "6676/6676 [==============================] - 6s 950us/step - loss: 0.8025 - accuracy: 0.2868 - val_loss: 0.7195 - val_accuracy: 0.3222\n"
     ]
    }
   ],
   "source": [
    "# Sparsity means most of the neurons are inactive\n",
    "# Hence, it can be used as a regulation\n",
    "n_epochs = 10\n",
    "batch_size = 32\n",
    "history = model.fit(\n",
    "    x=X_train_AE,\n",
    "    y=X_train_AE,\n",
    "    epochs=n_epochs,\n",
    "    batch_size=batch_size,\n",
    "    shuffle=True,\n",
    "    validation_data=(X_train_AE, X_train_AE),\n",
    "    verbose=1)"
   ]
  },
  {
   "cell_type": "code",
   "execution_count": 47,
   "id": "97ecafce",
   "metadata": {},
   "outputs": [
    {
     "data": {
      "image/png": "[encoded data removed]",
      "text/plain": [
       "<Figure size 432x288 with 1 Axes>"
      ]
     },
     "metadata": {
      "needs_background": "light"
     },
     "output_type": "display_data"
    },
    {
     "name": "stdout",
     "output_type": "stream",
     "text": [
      "Area Under Curve: 0.06\n"
     ]
    }
   ],
   "source": [
    "predictions = model.predict(X_test)\n",
    "anomalyScore = anomalyScores(X_test, predictions)\n",
    "plt_pre(y_test, anomalyScore)"
   ]
  },
  {
   "cell_type": "markdown",
   "id": "1e3e4771",
   "metadata": {},
   "source": [
    "# Overcomplete Sparse (10e-2) AutoEncoder with Dropout (0.1)"
   ]
  },
  {
   "cell_type": "code",
   "execution_count": 48,
   "id": "fda3c664",
   "metadata": {},
   "outputs": [
    {
     "name": "stdout",
     "output_type": "stream",
     "text": [
      "Model: \"sequential_12\"\n",
      "_________________________________________________________________\n",
      " Layer (type)                Output Shape              Param #   \n",
      "=================================================================\n",
      " dense_26 (Dense)            (None, 40)                1200      \n",
      "                                                                 \n",
      " dropout_2 (Dropout)         (None, 40)                0         \n",
      "                                                                 \n",
      " dense_27 (Dense)            (None, 29)                1189      \n",
      "                                                                 \n",
      "=================================================================\n",
      "Total params: 2,389\n",
      "Trainable params: 2,389\n",
      "Non-trainable params: 0\n",
      "_________________________________________________________________\n"
     ]
    }
   ],
   "source": [
    "# Overcomplete Sparse (10e-2) AutoEncoder with Dropout (0.1)\n",
    "model = tf.keras.Sequential()\n",
    "model.add(tf.keras.layers.Dense(units=40, activation='linear', input_dim=29, activity_regularizer=tf.keras.regularizers.L1(10e-2)))\n",
    "model.add(tf.keras.layers.Dropout(rate=0.1))\n",
    "model.add(tf.keras.layers.Dense(units=29, activation='linear'))\n",
    "model.compile(optimizer='adam', loss='mse', metrics=['accuracy'])\n",
    "model.summary()"
   ]
  },
  {
   "cell_type": "code",
   "execution_count": 49,
   "id": "f653de15",
   "metadata": {},
   "outputs": [
    {
     "name": "stdout",
     "output_type": "stream",
     "text": [
      "Epoch 1/10\n",
      "6676/6676 [==============================] - 7s 1ms/step - loss: 0.8073 - accuracy: 0.3632 - val_loss: 0.4047 - val_accuracy: 0.7570\n",
      "Epoch 2/10\n",
      "6676/6676 [==============================] - 7s 1ms/step - loss: 0.3593 - accuracy: 0.7300 - val_loss: 0.2289 - val_accuracy: 0.9227\n",
      "Epoch 3/10\n",
      "6676/6676 [==============================] - 7s 988us/step - loss: 0.2847 - accuracy: 0.7499 - val_loss: 0.1857 - val_accuracy: 0.9363\n",
      "Epoch 4/10\n",
      "6676/6676 [==============================] - 7s 996us/step - loss: 0.2581 - accuracy: 0.7539 - val_loss: 0.1900 - val_accuracy: 0.8904\n",
      "Epoch 5/10\n",
      "6676/6676 [==============================] - 7s 995us/step - loss: 0.2516 - accuracy: 0.7540 - val_loss: 0.2020 - val_accuracy: 0.9181\n",
      "Epoch 6/10\n",
      "6676/6676 [==============================] - 7s 1ms/step - loss: 0.2333 - accuracy: 0.7560 - val_loss: 0.1396 - val_accuracy: 0.9477\n",
      "Epoch 7/10\n",
      "6676/6676 [==============================] - 7s 986us/step - loss: 0.2343 - accuracy: 0.7531 - val_loss: 0.1305 - val_accuracy: 0.9466\n",
      "Epoch 8/10\n",
      "6676/6676 [==============================] - 7s 986us/step - loss: 0.2360 - accuracy: 0.7525 - val_loss: 0.1236 - val_accuracy: 0.9597\n",
      "Epoch 9/10\n",
      "6676/6676 [==============================] - 7s 989us/step - loss: 0.2828 - accuracy: 0.7492 - val_loss: 0.1247 - val_accuracy: 0.9375\n",
      "Epoch 10/10\n",
      "6676/6676 [==============================] - 7s 983us/step - loss: 0.2305 - accuracy: 0.7540 - val_loss: 0.1223 - val_accuracy: 0.9448\n"
     ]
    }
   ],
   "source": [
    "# Sparsity means most of the neurons are inactive\n",
    "# Hence, it can be used as a regulation\n",
    "n_epochs = 10\n",
    "batch_size = 32\n",
    "history = model.fit(\n",
    "    x=X_train_AE,\n",
    "    y=X_train_AE,\n",
    "    epochs=n_epochs,\n",
    "    batch_size=batch_size,\n",
    "    shuffle=True,\n",
    "    validation_data=(X_train_AE, X_train_AE),\n",
    "    verbose=1)"
   ]
  },
  {
   "cell_type": "code",
   "execution_count": 50,
   "id": "e4e6732f",
   "metadata": {},
   "outputs": [
    {
     "data": {
      "image/png": "[encoded data removed]",
      "text/plain": [
       "<Figure size 432x288 with 1 Axes>"
      ]
     },
     "metadata": {
      "needs_background": "light"
     },
     "output_type": "display_data"
    },
    {
     "name": "stdout",
     "output_type": "stream",
     "text": [
      "Area Under Curve: 0.37\n"
     ]
    }
   ],
   "source": [
    "predictions = model.predict(X_test)\n",
    "anomalyScore = anomalyScores(X_test, predictions)\n",
    "plt_pre(y_test, anomalyScore)"
   ]
  },
  {
   "cell_type": "markdown",
   "id": "a6fa921f",
   "metadata": {},
   "source": [
    "# Overcomplete Sparse (10e-2) AutoEncoder with Dropout (0.1)"
   ]
  },
  {
   "cell_type": "code",
   "execution_count": 12,
   "id": "a975bffd",
   "metadata": {},
   "outputs": [
    {
     "name": "stdout",
     "output_type": "stream",
     "text": [
      "Model: \"sequential_1\"\n",
      "_________________________________________________________________\n",
      " Layer (type)                Output Shape              Param #   \n",
      "=================================================================\n",
      " dense_2 (Dense)             (None, 40)                1200      \n",
      "                                                                 \n",
      " dense_3 (Dense)             (None, 29)                1189      \n",
      "                                                                 \n",
      "=================================================================\n",
      "Total params: 2,389\n",
      "Trainable params: 2,389\n",
      "Non-trainable params: 0\n",
      "_________________________________________________________________\n"
     ]
    }
   ],
   "source": [
    "# Overcomplete Sparse (10e-2) AutoEncoder with Dropout (0.1)\n",
    "model = tf.keras.Sequential()\n",
    "model.add(tf.keras.layers.Dense(units=40, activation='relu', input_dim=29))\n",
    "model.add(tf.keras.layers.Dense(units=29, activation='relu'))\n",
    "model.compile(optimizer='adam', loss='mse', metrics=['accuracy'])\n",
    "model.summary()"
   ]
  },
  {
   "cell_type": "code",
   "execution_count": 13,
   "id": "c1a5ef30",
   "metadata": {},
   "outputs": [
    {
     "name": "stdout",
     "output_type": "stream",
     "text": [
      "Epoch 1/10\n",
      "6676/6676 [==============================] - 6s 930us/step - loss: 0.5557 - accuracy: 0.8547 - val_loss: 0.5155 - val_accuracy: 0.9663\n",
      "Epoch 2/10\n",
      "6676/6676 [==============================] - 6s 905us/step - loss: 0.5144 - accuracy: 0.9709 - val_loss: 0.5176 - val_accuracy: 0.9476\n",
      "Epoch 3/10\n",
      "6676/6676 [==============================] - 6s 956us/step - loss: 0.5141 - accuracy: 0.9743 - val_loss: 0.5145 - val_accuracy: 0.9637\n",
      "Epoch 4/10\n",
      "6676/6676 [==============================] - 6s 944us/step - loss: 0.5137 - accuracy: 0.9766 - val_loss: 0.5163 - val_accuracy: 0.9371\n",
      "Epoch 5/10\n",
      "6676/6676 [==============================] - 6s 910us/step - loss: 0.5138 - accuracy: 0.9767 - val_loss: 0.5134 - val_accuracy: 0.9823\n",
      "Epoch 6/10\n",
      "6676/6676 [==============================] - 6s 914us/step - loss: 0.5136 - accuracy: 0.9783 - val_loss: 0.5129 - val_accuracy: 0.9904\n",
      "Epoch 7/10\n",
      "6676/6676 [==============================] - 6s 923us/step - loss: 0.5136 - accuracy: 0.9788 - val_loss: 0.5143 - val_accuracy: 0.9612\n",
      "Epoch 8/10\n",
      "6676/6676 [==============================] - 6s 908us/step - loss: 0.5138 - accuracy: 0.9795 - val_loss: 0.5129 - val_accuracy: 0.9807\n",
      "Epoch 9/10\n",
      "6676/6676 [==============================] - 6s 913us/step - loss: 0.5136 - accuracy: 0.9779 - val_loss: 0.5151 - val_accuracy: 0.9604\n",
      "Epoch 10/10\n",
      "6676/6676 [==============================] - 6s 922us/step - loss: 0.5135 - accuracy: 0.9778 - val_loss: 0.5133 - val_accuracy: 0.9734\n"
     ]
    }
   ],
   "source": [
    "# Sparsity means most of the neurons are inactive\n",
    "# Hence, it can be used as a regulation\n",
    "n_epochs = 10\n",
    "batch_size = 32\n",
    "history = model.fit(\n",
    "    x=X_train_AE,\n",
    "    y=X_train_AE,\n",
    "    epochs=n_epochs,\n",
    "    batch_size=batch_size,\n",
    "    shuffle=True,\n",
    "    validation_data=(X_train_AE, X_train_AE),\n",
    "    verbose=1)"
   ]
  },
  {
   "cell_type": "code",
   "execution_count": 14,
   "id": "c4e391c0",
   "metadata": {},
   "outputs": [
    {
     "data": {
      "image/png": "[encoded data removed]",
      "text/plain": [
       "<Figure size 432x288 with 1 Axes>"
      ]
     },
     "metadata": {
      "needs_background": "light"
     },
     "output_type": "display_data"
    },
    {
     "name": "stdout",
     "output_type": "stream",
     "text": [
      "Area Under Curve: 0.21\n"
     ]
    }
   ],
   "source": [
    "predictions = model.predict(X_test)\n",
    "anomalyScore = anomalyScores(X_test, predictions)\n",
    "plt_pre(y_test, anomalyScore)"
   ]
  },
  {
   "cell_type": "markdown",
   "id": "e19eb6ef",
   "metadata": {},
   "source": [
    "# Overcomplete Sparse (10e-2) AutoEncoder with Dropout (0.1) with Relu"
   ]
  },
  {
   "cell_type": "code",
   "execution_count": 19,
   "id": "58d84703",
   "metadata": {},
   "outputs": [
    {
     "name": "stdout",
     "output_type": "stream",
     "text": [
      "Model: \"sequential_3\"\n",
      "_________________________________________________________________\n",
      " Layer (type)                Output Shape              Param #   \n",
      "=================================================================\n",
      " dense_6 (Dense)             (None, 40)                1200      \n",
      "                                                                 \n",
      " dropout_1 (Dropout)         (None, 40)                0         \n",
      "                                                                 \n",
      " dense_7 (Dense)             (None, 29)                1189      \n",
      "                                                                 \n",
      "=================================================================\n",
      "Total params: 2,389\n",
      "Trainable params: 2,389\n",
      "Non-trainable params: 0\n",
      "_________________________________________________________________\n"
     ]
    }
   ],
   "source": [
    "# Overcomplete Sparse (10e-2) AutoEncoder with Dropout (0.1)\n",
    "model = tf.keras.Sequential()\n",
    "model.add(tf.keras.layers.Dense(units=40, activation='relu', input_dim=29, activity_regularizer=tf.keras.regularizers.L1(10e-2)))\n",
    "model.add(tf.keras.layers.Dropout(rate=0.1))\n",
    "model.add(tf.keras.layers.Dense(units=29, activation='relu'))\n",
    "model.compile(optimizer='adam', loss='mse', metrics=['accuracy'])\n",
    "model.summary()"
   ]
  },
  {
   "cell_type": "code",
   "execution_count": 10,
   "id": "605d3613",
   "metadata": {},
   "outputs": [
    {
     "name": "stdout",
     "output_type": "stream",
     "text": [
      "Epoch 1/10\n",
      "6676/6676 [==============================] - 8s 993us/step - loss: 0.9483 - accuracy: 0.1715 - val_loss: 0.8296 - val_accuracy: 0.2593\n",
      "Epoch 2/10\n",
      "6676/6676 [==============================] - 7s 1ms/step - loss: 0.8143 - accuracy: 0.2689 - val_loss: 0.7737 - val_accuracy: 0.3138\n",
      "Epoch 3/10\n",
      "6676/6676 [==============================] - 7s 995us/step - loss: 0.7763 - accuracy: 0.3126 - val_loss: 0.7405 - val_accuracy: 0.3847\n",
      "Epoch 4/10\n",
      "6676/6676 [==============================] - 7s 1ms/step - loss: 0.7435 - accuracy: 0.3938 - val_loss: 0.7039 - val_accuracy: 0.4553\n",
      "Epoch 5/10\n",
      "6676/6676 [==============================] - 7s 1ms/step - loss: 0.7246 - accuracy: 0.4262 - val_loss: 0.6937 - val_accuracy: 0.4665\n",
      "Epoch 6/10\n",
      "6676/6676 [==============================] - 7s 1ms/step - loss: 0.7155 - accuracy: 0.4412 - val_loss: 0.6849 - val_accuracy: 0.4928\n",
      "Epoch 7/10\n",
      "6676/6676 [==============================] - 7s 979us/step - loss: 0.7077 - accuracy: 0.4589 - val_loss: 0.6872 - val_accuracy: 0.5105\n",
      "Epoch 8/10\n",
      "6676/6676 [==============================] - 7s 1ms/step - loss: 0.7051 - accuracy: 0.4813 - val_loss: 0.7358 - val_accuracy: 0.5021\n",
      "Epoch 9/10\n",
      "6676/6676 [==============================] - 7s 979us/step - loss: 0.7057 - accuracy: 0.4898 - val_loss: 0.6703 - val_accuracy: 0.5372\n",
      "Epoch 10/10\n",
      "6676/6676 [==============================] - 6s 954us/step - loss: 0.6982 - accuracy: 0.5035 - val_loss: 0.6881 - val_accuracy: 0.5167\n"
     ]
    }
   ],
   "source": [
    "# Sparsity means most of the neurons are inactive\n",
    "# Hence, it can be used as a regulation\n",
    "n_epochs = 10\n",
    "batch_size = 32\n",
    "history = model.fit(\n",
    "    x=X_train_AE,\n",
    "    y=X_train_AE,\n",
    "    epochs=n_epochs,\n",
    "    batch_size=batch_size,\n",
    "    shuffle=True,\n",
    "    validation_data=(X_train_AE, X_train_AE),\n",
    "    verbose=1)"
   ]
  },
  {
   "cell_type": "code",
   "execution_count": 11,
   "id": "f5a114e4",
   "metadata": {},
   "outputs": [
    {
     "data": {
      "image/png": "[encoded data removed]",
      "text/plain": [
       "<Figure size 432x288 with 1 Axes>"
      ]
     },
     "metadata": {
      "needs_background": "light"
     },
     "output_type": "display_data"
    },
    {
     "name": "stdout",
     "output_type": "stream",
     "text": [
      "Area Under Curve: 0.2\n"
     ]
    }
   ],
   "source": [
    "predictions = model.predict(X_test)\n",
    "anomalyScore = anomalyScores(X_test, predictions)\n",
    "plt_pre(y_test, anomalyScore)"
   ]
  },
  {
   "cell_type": "markdown",
   "id": "679ed7d9",
   "metadata": {},
   "source": [
    "#### Overcomplete Sparse (10e-2) AutoEncoder is the best model so far."
   ]
  }
 ],
 "metadata": {
  "kernelspec": {
   "display_name": "myenv",
   "language": "python",
   "name": "myenv"
  },
  "language_info": {
   "codemirror_mode": {
    "name": "ipython",
    "version": 3
   },
   "file_extension": ".py",
   "mimetype": "text/x-python",
   "name": "python",
   "nbconvert_exporter": "python",
   "pygments_lexer": "ipython3",
   "version": "3.8.8"
  }
 },
 "nbformat": 4,
 "nbformat_minor": 5
}
