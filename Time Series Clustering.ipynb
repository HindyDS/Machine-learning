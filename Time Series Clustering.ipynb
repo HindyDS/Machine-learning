{
 "cells": [
  {
   "cell_type": "markdown",
   "id": "4f1eec72",
   "metadata": {},
   "source": [
    "# This purpose of this project is to compare the performance of kshape vs Kmeans on a time series dataset. "
   ]
  },
  {
   "cell_type": "code",
   "execution_count": 1,
   "id": "c8f19f63",
   "metadata": {},
   "outputs": [],
   "source": [
    "import pandas as pd\n",
    "import numpy as np\n",
    "import matplotlib.pyplot as plt"
   ]
  },
  {
   "cell_type": "code",
   "execution_count": 2,
   "id": "8c090dbe",
   "metadata": {},
   "outputs": [],
   "source": [
    "from kshape.core import kshape, zscore\n",
    "import tslearn\n",
    "from tslearn.utils import to_time_series_dataset\n",
    "from tslearn.clustering import KShape\n",
    "from tslearn.preprocessing import TimeSeriesScalerMeanVariance\n",
    "from tslearn.clustering import TimeSeriesKMeans"
   ]
  },
  {
   "cell_type": "code",
   "execution_count": 3,
   "id": "1dc18f1b",
   "metadata": {},
   "outputs": [],
   "source": [
    "from sklearn.metrics.cluster import adjusted_rand_score\n",
    "from sklearn.model_selection import train_test_split\n",
    "from sklearn.cluster import KMeans"
   ]
  },
  {
   "cell_type": "code",
   "execution_count": 99,
   "id": "832a2639",
   "metadata": {},
   "outputs": [],
   "source": [
    "from sklearn.cluster import DBSCAN"
   ]
  },
  {
   "cell_type": "markdown",
   "id": "00f149bb",
   "metadata": {},
   "source": [
    "# ECGFiveDays\n",
    "\n",
    "Data are from a 67 year old male. The two classes correspond to two dates that the ECG was recorded, which are five days apart: 12/11/1990 and 17/11/1990.\n",
    "\n",
    "Train size: 23\n",
    "\n",
    "Test size: 861\n",
    "\n",
    "Missing value: No\n",
    "\n",
    "Number of classses: 2\n",
    "\n",
    "Time series length: 136\n",
    "\n",
    "Data donated by Yanping Chen and Eamonn Keogh (see [1]).\n",
    "\n",
    "[1] http://www.timeseriesclassification.com/description.php?Dataset=ECGFiveDays"
   ]
  },
  {
   "cell_type": "code",
   "execution_count": 4,
   "id": "a1925581",
   "metadata": {},
   "outputs": [],
   "source": [
    "ecg5_train = pd.read_csv(\"UCRArchive_2018/ECGFiveDays/ECGFiveDays_TRAIN.tsv\", sep='\\t', header=None)\n",
    "ecg5_test = pd.read_csv(\"UCRArchive_2018/ECGFiveDays/ECGFiveDays_TEST.tsv\", sep='\\t', header=None)\n",
    "\n",
    "ecg5_train.rename(columns={0:\"Class\"}, inplace=True)\n",
    "ecg5_test.rename(columns={0:\"Class\"}, inplace=True)"
   ]
  },
  {
   "cell_type": "code",
   "execution_count": 5,
   "id": "1fbbac71",
   "metadata": {},
   "outputs": [],
   "source": [
    "X_train = to_time_series_dataset(ecg5_train.iloc[:, 1:])\n",
    "y_train = ecg5_train[\"Class\"].astype(int)\n",
    "\n",
    "X_test = to_time_series_dataset(ecg5_test.iloc[:, 1:])\n",
    "y_test = ecg5_test[\"Class\"].astype(int)"
   ]
  },
  {
   "cell_type": "code",
   "execution_count": 6,
   "id": "15ae1986",
   "metadata": {},
   "outputs": [
    {
     "name": "stdout",
     "output_type": "stream",
     "text": [
      "Number of time series: 23\n",
      "Number of unique classes: 2\n",
      "Time series length: 136\n"
     ]
    }
   ],
   "source": [
    "# Basic summary statistics\n",
    "print(\"Number of time series:\", len(ecg5_train))\n",
    "print(\"Number of unique classes:\", len(np.unique(ecg5_train.iloc[:, 0])))\n",
    "print(\"Time series length:\", len(ecg5_train.iloc[0, 1:]))"
   ]
  },
  {
   "cell_type": "code",
   "execution_count": 7,
   "id": "1dd3263e",
   "metadata": {},
   "outputs": [
    {
     "data": {
      "text/html": [
       "<div>\n",
       "<style scoped>\n",
       "    .dataframe tbody tr th:only-of-type {\n",
       "        vertical-align: middle;\n",
       "    }\n",
       "\n",
       "    .dataframe tbody tr th {\n",
       "        vertical-align: top;\n",
       "    }\n",
       "\n",
       "    .dataframe thead th {\n",
       "        text-align: right;\n",
       "    }\n",
       "</style>\n",
       "<table border=\"1\" class=\"dataframe\">\n",
       "  <thead>\n",
       "    <tr style=\"text-align: right;\">\n",
       "      <th></th>\n",
       "      <th>Class</th>\n",
       "      <th>1</th>\n",
       "      <th>2</th>\n",
       "      <th>3</th>\n",
       "      <th>4</th>\n",
       "      <th>5</th>\n",
       "      <th>6</th>\n",
       "      <th>7</th>\n",
       "      <th>8</th>\n",
       "      <th>9</th>\n",
       "      <th>...</th>\n",
       "      <th>127</th>\n",
       "      <th>128</th>\n",
       "      <th>129</th>\n",
       "      <th>130</th>\n",
       "      <th>131</th>\n",
       "      <th>132</th>\n",
       "      <th>133</th>\n",
       "      <th>134</th>\n",
       "      <th>135</th>\n",
       "      <th>136</th>\n",
       "    </tr>\n",
       "  </thead>\n",
       "  <tbody>\n",
       "    <tr>\n",
       "      <th>0</th>\n",
       "      <td>1</td>\n",
       "      <td>0.009913</td>\n",
       "      <td>0.033429</td>\n",
       "      <td>-0.005764</td>\n",
       "      <td>-0.029279</td>\n",
       "      <td>-0.052795</td>\n",
       "      <td>0.009913</td>\n",
       "      <td>-0.021441</td>\n",
       "      <td>-0.029279</td>\n",
       "      <td>-0.060633</td>\n",
       "      <td>...</td>\n",
       "      <td>-0.091987</td>\n",
       "      <td>0.002075</td>\n",
       "      <td>-0.044956</td>\n",
       "      <td>-0.060633</td>\n",
       "      <td>-0.068472</td>\n",
       "      <td>0.002075</td>\n",
       "      <td>-0.029279</td>\n",
       "      <td>-0.115503</td>\n",
       "      <td>0.002075</td>\n",
       "      <td>0.025590</td>\n",
       "    </tr>\n",
       "    <tr>\n",
       "      <th>1</th>\n",
       "      <td>1</td>\n",
       "      <td>0.073039</td>\n",
       "      <td>0.032245</td>\n",
       "      <td>0.040404</td>\n",
       "      <td>0.048563</td>\n",
       "      <td>0.032245</td>\n",
       "      <td>0.052642</td>\n",
       "      <td>0.040404</td>\n",
       "      <td>0.015928</td>\n",
       "      <td>0.015928</td>\n",
       "      <td>...</td>\n",
       "      <td>-0.371614</td>\n",
       "      <td>-0.371614</td>\n",
       "      <td>-0.420566</td>\n",
       "      <td>-0.363455</td>\n",
       "      <td>-0.387931</td>\n",
       "      <td>-0.387931</td>\n",
       "      <td>-0.404249</td>\n",
       "      <td>-0.387931</td>\n",
       "      <td>-0.375693</td>\n",
       "      <td>-0.404249</td>\n",
       "    </tr>\n",
       "    <tr>\n",
       "      <th>2</th>\n",
       "      <td>2</td>\n",
       "      <td>1.908786</td>\n",
       "      <td>0.368965</td>\n",
       "      <td>0.340811</td>\n",
       "      <td>0.322041</td>\n",
       "      <td>0.350195</td>\n",
       "      <td>0.350195</td>\n",
       "      <td>0.378350</td>\n",
       "      <td>0.331426</td>\n",
       "      <td>0.378350</td>\n",
       "      <td>...</td>\n",
       "      <td>-0.062731</td>\n",
       "      <td>-0.081500</td>\n",
       "      <td>0.021731</td>\n",
       "      <td>0.153117</td>\n",
       "      <td>0.143732</td>\n",
       "      <td>0.331426</td>\n",
       "      <td>0.002962</td>\n",
       "      <td>-0.297348</td>\n",
       "      <td>-0.278579</td>\n",
       "      <td>-0.353656</td>\n",
       "    </tr>\n",
       "    <tr>\n",
       "      <th>3</th>\n",
       "      <td>2</td>\n",
       "      <td>-0.480461</td>\n",
       "      <td>-0.470177</td>\n",
       "      <td>-0.377624</td>\n",
       "      <td>-0.429042</td>\n",
       "      <td>-0.429042</td>\n",
       "      <td>-0.449610</td>\n",
       "      <td>-0.377624</td>\n",
       "      <td>-0.315922</td>\n",
       "      <td>-0.449610</td>\n",
       "      <td>...</td>\n",
       "      <td>-0.110247</td>\n",
       "      <td>-0.233652</td>\n",
       "      <td>-0.336489</td>\n",
       "      <td>-0.408475</td>\n",
       "      <td>-0.583298</td>\n",
       "      <td>-0.511312</td>\n",
       "      <td>-0.387908</td>\n",
       "      <td>-0.367340</td>\n",
       "      <td>-0.377624</td>\n",
       "      <td>-0.367340</td>\n",
       "    </tr>\n",
       "    <tr>\n",
       "      <th>4</th>\n",
       "      <td>1</td>\n",
       "      <td>0.335308</td>\n",
       "      <td>0.298158</td>\n",
       "      <td>0.298158</td>\n",
       "      <td>0.288870</td>\n",
       "      <td>0.307445</td>\n",
       "      <td>0.223857</td>\n",
       "      <td>0.242432</td>\n",
       "      <td>0.261008</td>\n",
       "      <td>0.158844</td>\n",
       "      <td>...</td>\n",
       "      <td>-0.305533</td>\n",
       "      <td>-0.379834</td>\n",
       "      <td>-0.333396</td>\n",
       "      <td>-0.351971</td>\n",
       "      <td>-0.324108</td>\n",
       "      <td>-0.314821</td>\n",
       "      <td>-0.351971</td>\n",
       "      <td>-0.324108</td>\n",
       "      <td>-0.379834</td>\n",
       "      <td>-0.407696</td>\n",
       "    </tr>\n",
       "  </tbody>\n",
       "</table>\n",
       "<p>5 rows × 137 columns</p>\n",
       "</div>"
      ],
      "text/plain": [
       "   Class         1         2         3         4         5         6  \\\n",
       "0      1  0.009913  0.033429 -0.005764 -0.029279 -0.052795  0.009913   \n",
       "1      1  0.073039  0.032245  0.040404  0.048563  0.032245  0.052642   \n",
       "2      2  1.908786  0.368965  0.340811  0.322041  0.350195  0.350195   \n",
       "3      2 -0.480461 -0.470177 -0.377624 -0.429042 -0.429042 -0.449610   \n",
       "4      1  0.335308  0.298158  0.298158  0.288870  0.307445  0.223857   \n",
       "\n",
       "          7         8         9  ...       127       128       129       130  \\\n",
       "0 -0.021441 -0.029279 -0.060633  ... -0.091987  0.002075 -0.044956 -0.060633   \n",
       "1  0.040404  0.015928  0.015928  ... -0.371614 -0.371614 -0.420566 -0.363455   \n",
       "2  0.378350  0.331426  0.378350  ... -0.062731 -0.081500  0.021731  0.153117   \n",
       "3 -0.377624 -0.315922 -0.449610  ... -0.110247 -0.233652 -0.336489 -0.408475   \n",
       "4  0.242432  0.261008  0.158844  ... -0.305533 -0.379834 -0.333396 -0.351971   \n",
       "\n",
       "        131       132       133       134       135       136  \n",
       "0 -0.068472  0.002075 -0.029279 -0.115503  0.002075  0.025590  \n",
       "1 -0.387931 -0.387931 -0.404249 -0.387931 -0.375693 -0.404249  \n",
       "2  0.143732  0.331426  0.002962 -0.297348 -0.278579 -0.353656  \n",
       "3 -0.583298 -0.511312 -0.387908 -0.367340 -0.377624 -0.367340  \n",
       "4 -0.324108 -0.314821 -0.351971 -0.324108 -0.379834 -0.407696  \n",
       "\n",
       "[5 rows x 137 columns]"
      ]
     },
     "execution_count": 7,
     "metadata": {},
     "output_type": "execute_result"
    }
   ],
   "source": [
    "ecg5_train.head()"
   ]
  },
  {
   "cell_type": "code",
   "execution_count": 8,
   "id": "acf3fd45",
   "metadata": {},
   "outputs": [
    {
     "data": {
      "image/png": "[encoded data removed]",
      "text/plain": [
       "<Figure size 432x288 with 1 Axes>"
      ]
     },
     "metadata": {
      "needs_background": "light"
     },
     "output_type": "display_data"
    }
   ],
   "source": [
    "ecg5_train.T[0][1:].plot()\n",
    "ecg5_train.T[2][1:].plot()\n",
    "plt.legend([\"Class 1\", \"Class 2\"])\n",
    "plt.show()"
   ]
  },
  {
   "cell_type": "markdown",
   "id": "6699fd85",
   "metadata": {},
   "source": [
    "The plots are noisy with distortions. There are also differences in\n",
    "amplitude, period, phase shift, and vertical shift that make classification a\n",
    "challenge\n",
    "\n",
    "To the naked, untrained eye, the examples from class 1.0 and class 2.0 seem\n",
    "indistinguishable"
   ]
  },
  {
   "cell_type": "markdown",
   "id": "ac8e7ffa",
   "metadata": {},
   "source": [
    "# Training"
   ]
  },
  {
   "cell_type": "code",
   "execution_count": 9,
   "id": "bb739e4c",
   "metadata": {},
   "outputs": [],
   "source": [
    "# Prepare the data - Scale\n",
    "X_train = TimeSeriesScalerMeanVariance(mu=0., std=1.).fit_transform(X_train)\n",
    "X_test = TimeSeriesScalerMeanVariance(mu=0., std=1.).fit_transform(X_test)"
   ]
  },
  {
   "cell_type": "markdown",
   "id": "19991293",
   "metadata": {},
   "source": [
    "# k-shape\n",
    "    Group time series based on the shape similarity, regardless of the phase and amplitude."
   ]
  },
  {
   "cell_type": "code",
   "execution_count": 10,
   "id": "79ea4b6a",
   "metadata": {},
   "outputs": [
    {
     "data": {
      "text/plain": [
       "KShape(n_clusters=2, n_init=100, verbose=0)"
      ]
     },
     "execution_count": 10,
     "metadata": {},
     "output_type": "execute_result"
    }
   ],
   "source": [
    "# Train using k-Shape\n",
    "ks = KShape(n_clusters=2, max_iter=100, n_init=100,verbose=0)\n",
    "ks.fit(X_train)"
   ]
  },
  {
   "cell_type": "markdown",
   "id": "9544e52a",
   "metadata": {},
   "source": [
    "# Evaluation\n",
    "\n",
    "### Adjusted Rand index: \n",
    "a measure of the similarity between two data clusterings adjusted for the chance grouping of elements. This is related to the accuracy measure.\n",
    "\n",
    "Rand index measures the number of agreements in cluster assignments between the predicted clusterings and the true clusterings. \n",
    "\n",
    "Adjusted Rand Index close to 0: Purely randomly assigning clusters\n",
    "\n",
    "Adjusted Rand Index close to 1: Predicted clusterings match the true clusterings exactly"
   ]
  },
  {
   "cell_type": "code",
   "execution_count": 13,
   "id": "1629bf14",
   "metadata": {},
   "outputs": [
    {
     "name": "stdout",
     "output_type": "stream",
     "text": [
      "Adjusted Rand Index: 0.668041237113402\n"
     ]
    }
   ],
   "source": [
    "# Trainset\n",
    "y_pred = ks.predict(X_train)\n",
    "ars = adjusted_rand_score(ecg5_train.iloc[:, 0], y_pred)\n",
    "print(\"Adjusted Rand Index:\", ars)"
   ]
  },
  {
   "cell_type": "code",
   "execution_count": 14,
   "id": "d94da783",
   "metadata": {},
   "outputs": [
    {
     "name": "stdout",
     "output_type": "stream",
     "text": [
      "Adjusted Rand Index: 0.34877086125298334\n"
     ]
    }
   ],
   "source": [
    "# Testset\n",
    "y_pred = ks.predict(X_test)\n",
    "ars = adjusted_rand_score(ecg5_test.iloc[:, 0], y_pred)\n",
    "print(\"Adjusted Rand Index:\", ars)"
   ]
  },
  {
   "cell_type": "markdown",
   "id": "aca8bd3e",
   "metadata": {},
   "source": [
    "A much better Adjusted Rand Index could be achieved if we have more data in the trainset."
   ]
  },
  {
   "cell_type": "markdown",
   "id": "2c91dc5d",
   "metadata": {},
   "source": [
    "# ECG5000\n",
    "\n",
    "The original data set for *ECG5000* is a 20-hour long ECG downloaded from Physionet_ATM [1]. The database is BIDMC Congestive Heart Failure Database(chfdb) and the record is chf07. It was originally published by Goldberger et al. [2]. The data were pre-processed in two steps, first extracting each heartbeat and then making each heartbeat equal length using interpolation. These data were originally used by Chen et al. [3]. After that, 5000 heartbeats were randomly selected to make the current data set. Data were from a patient who has severe congestive heart failure. The class values were obtained by automated annotation.\n",
    "\n",
    "Train size: 500\n",
    "\n",
    "Test size: 4500\n",
    "\n",
    "Missing value: No\n",
    "\n",
    "Number of classses: 5\n",
    "\n",
    "Time series length: 140\n",
    "\n",
    "Data donated by Yanping Chen and Eamonn Keogh (see [3], [4]).\n",
    "\n",
    "[1] https://physionet.org/cgi-bin/atm/ATM\n",
    "\n",
    "[2] Goldberger, Ary L., et al. \"PhysioBank, PhysioToolkit, and PhysioNet: components of a new research resource for complex physiologic signals.\" Circulation 101.23 (2000): e215-e220.\n",
    "\n",
    "[3] Chen, Yanping, et al. \"A general framework for never-ending learning from time series streams.\" Data Mining and Knowledge Discovery 29.6 (2015): 1622-1664.\n",
    "\n",
    "[4] http://www.timeseriesclassification.com/description.php?Dataset=ECG5000"
   ]
  },
  {
   "cell_type": "code",
   "execution_count": 29,
   "id": "31f8a1fb",
   "metadata": {},
   "outputs": [],
   "source": [
    "ecg5000_train = pd.read_csv(\"UCRArchive_2018/ECG5000/ECG5000_TRAIN.tsv\", sep='\\t', header=None)\n",
    "ecg5000_test = pd.read_csv(\"UCRArchive_2018/ECG5000/ECG5000_TEST.tsv\", sep='\\t', header=None)\n",
    "\n",
    "ecg5000_train.rename(columns={0:\"Class\"}, inplace=True)\n",
    "ecg5000_test.rename(columns={0:\"Class\"}, inplace=True)"
   ]
  },
  {
   "cell_type": "code",
   "execution_count": 30,
   "id": "f6dd8d16",
   "metadata": {},
   "outputs": [
    {
     "data": {
      "text/plain": [
       "((500, 141), (4500, 141))"
      ]
     },
     "execution_count": 30,
     "metadata": {},
     "output_type": "execute_result"
    }
   ],
   "source": [
    "ecg5000_train.shape, ecg5000_test.shape"
   ]
  },
  {
   "cell_type": "code",
   "execution_count": 32,
   "id": "39c4ced4",
   "metadata": {},
   "outputs": [],
   "source": [
    "df = pd.concat([ecg5000_train, ecg5000_test])\n",
    "ecg5000_train, ecg5000_test = train_test_split(df, test_size=0.2, random_state=2019)"
   ]
  },
  {
   "cell_type": "code",
   "execution_count": 36,
   "id": "bf0ccf2b",
   "metadata": {},
   "outputs": [],
   "source": [
    "X_train = to_time_series_dataset(ecg5000_train.iloc[:, 1:])\n",
    "y_train = ecg5000_train[\"Class\"].astype(int)\n",
    "\n",
    "X_test = to_time_series_dataset(ecg5000_test.iloc[:, 1:])\n",
    "y_test = ecg5000_test[\"Class\"].astype(int)"
   ]
  },
  {
   "cell_type": "code",
   "execution_count": 37,
   "id": "f35122ca",
   "metadata": {},
   "outputs": [
    {
     "name": "stdout",
     "output_type": "stream",
     "text": [
      "Number of time series: 4000\n",
      "Number of unique classes: 5\n",
      "Time series length: 140\n"
     ]
    }
   ],
   "source": [
    "# Basic summary statistics\n",
    "print(\"Number of time series:\", len(ecg5000_train))\n",
    "print(\"Number of unique classes:\", len(np.unique(ecg5000_train.iloc[:, 0])))\n",
    "print(\"Time series length:\", len(ecg5000_train.iloc[0, 1:]))"
   ]
  },
  {
   "cell_type": "code",
   "execution_count": 38,
   "id": "a876e73d",
   "metadata": {},
   "outputs": [
    {
     "data": {
      "text/html": [
       "<div>\n",
       "<style scoped>\n",
       "    .dataframe tbody tr th:only-of-type {\n",
       "        vertical-align: middle;\n",
       "    }\n",
       "\n",
       "    .dataframe tbody tr th {\n",
       "        vertical-align: top;\n",
       "    }\n",
       "\n",
       "    .dataframe thead th {\n",
       "        text-align: right;\n",
       "    }\n",
       "</style>\n",
       "<table border=\"1\" class=\"dataframe\">\n",
       "  <thead>\n",
       "    <tr style=\"text-align: right;\">\n",
       "      <th></th>\n",
       "      <th>Class</th>\n",
       "      <th>1</th>\n",
       "      <th>2</th>\n",
       "      <th>3</th>\n",
       "      <th>4</th>\n",
       "      <th>5</th>\n",
       "      <th>6</th>\n",
       "      <th>7</th>\n",
       "      <th>8</th>\n",
       "      <th>9</th>\n",
       "      <th>...</th>\n",
       "      <th>131</th>\n",
       "      <th>132</th>\n",
       "      <th>133</th>\n",
       "      <th>134</th>\n",
       "      <th>135</th>\n",
       "      <th>136</th>\n",
       "      <th>137</th>\n",
       "      <th>138</th>\n",
       "      <th>139</th>\n",
       "      <th>140</th>\n",
       "    </tr>\n",
       "  </thead>\n",
       "  <tbody>\n",
       "    <tr>\n",
       "      <th>3977</th>\n",
       "      <td>2</td>\n",
       "      <td>-0.872004</td>\n",
       "      <td>-1.737934</td>\n",
       "      <td>-2.179271</td>\n",
       "      <td>-2.621595</td>\n",
       "      <td>-2.743221</td>\n",
       "      <td>-2.848696</td>\n",
       "      <td>-2.642509</td>\n",
       "      <td>-2.144997</td>\n",
       "      <td>-1.699626</td>\n",
       "      <td>...</td>\n",
       "      <td>-0.961985</td>\n",
       "      <td>-1.630911</td>\n",
       "      <td>-2.319958</td>\n",
       "      <td>-3.071662</td>\n",
       "      <td>-3.630929</td>\n",
       "      <td>-3.661980</td>\n",
       "      <td>-3.081851</td>\n",
       "      <td>-1.974048</td>\n",
       "      <td>-0.871374</td>\n",
       "      <td>0.153755</td>\n",
       "    </tr>\n",
       "    <tr>\n",
       "      <th>129</th>\n",
       "      <td>1</td>\n",
       "      <td>-0.853866</td>\n",
       "      <td>-2.489415</td>\n",
       "      <td>-3.646334</td>\n",
       "      <td>-4.258130</td>\n",
       "      <td>-3.694179</td>\n",
       "      <td>-2.691938</td>\n",
       "      <td>-2.002917</td>\n",
       "      <td>-1.726384</td>\n",
       "      <td>-0.868932</td>\n",
       "      <td>...</td>\n",
       "      <td>0.826330</td>\n",
       "      <td>1.113123</td>\n",
       "      <td>0.942545</td>\n",
       "      <td>0.852835</td>\n",
       "      <td>0.636228</td>\n",
       "      <td>0.502006</td>\n",
       "      <td>0.475788</td>\n",
       "      <td>0.732305</td>\n",
       "      <td>1.424129</td>\n",
       "      <td>0.387357</td>\n",
       "    </tr>\n",
       "    <tr>\n",
       "      <th>2421</th>\n",
       "      <td>1</td>\n",
       "      <td>0.077462</td>\n",
       "      <td>-2.209479</td>\n",
       "      <td>-3.535134</td>\n",
       "      <td>-4.665829</td>\n",
       "      <td>-4.281586</td>\n",
       "      <td>-3.217774</td>\n",
       "      <td>-2.010526</td>\n",
       "      <td>-1.510237</td>\n",
       "      <td>-1.312390</td>\n",
       "      <td>...</td>\n",
       "      <td>0.842265</td>\n",
       "      <td>1.233373</td>\n",
       "      <td>0.865505</td>\n",
       "      <td>0.793086</td>\n",
       "      <td>0.442236</td>\n",
       "      <td>-0.134369</td>\n",
       "      <td>-0.003038</td>\n",
       "      <td>0.472147</td>\n",
       "      <td>0.978863</td>\n",
       "      <td>-0.661881</td>\n",
       "    </tr>\n",
       "    <tr>\n",
       "      <th>3858</th>\n",
       "      <td>2</td>\n",
       "      <td>-0.398234</td>\n",
       "      <td>-1.604322</td>\n",
       "      <td>-2.574263</td>\n",
       "      <td>-3.281971</td>\n",
       "      <td>-3.160282</td>\n",
       "      <td>-2.788319</td>\n",
       "      <td>-2.166766</td>\n",
       "      <td>-1.534808</td>\n",
       "      <td>-1.046323</td>\n",
       "      <td>...</td>\n",
       "      <td>0.113387</td>\n",
       "      <td>0.144475</td>\n",
       "      <td>-0.057813</td>\n",
       "      <td>-0.722754</td>\n",
       "      <td>-1.491745</td>\n",
       "      <td>-1.998754</td>\n",
       "      <td>-2.649831</td>\n",
       "      <td>-3.611137</td>\n",
       "      <td>-4.374202</td>\n",
       "      <td>-3.979222</td>\n",
       "    </tr>\n",
       "    <tr>\n",
       "      <th>411</th>\n",
       "      <td>2</td>\n",
       "      <td>0.611928</td>\n",
       "      <td>0.282954</td>\n",
       "      <td>0.351850</td>\n",
       "      <td>0.455352</td>\n",
       "      <td>0.372982</td>\n",
       "      <td>0.199899</td>\n",
       "      <td>0.119206</td>\n",
       "      <td>0.146036</td>\n",
       "      <td>0.184410</td>\n",
       "      <td>...</td>\n",
       "      <td>0.282043</td>\n",
       "      <td>0.234917</td>\n",
       "      <td>0.164288</td>\n",
       "      <td>0.216272</td>\n",
       "      <td>0.346861</td>\n",
       "      <td>0.305872</td>\n",
       "      <td>0.047970</td>\n",
       "      <td>-0.051511</td>\n",
       "      <td>0.451866</td>\n",
       "      <td>1.474301</td>\n",
       "    </tr>\n",
       "  </tbody>\n",
       "</table>\n",
       "<p>5 rows × 141 columns</p>\n",
       "</div>"
      ],
      "text/plain": [
       "      Class         1         2         3         4         5         6  \\\n",
       "3977      2 -0.872004 -1.737934 -2.179271 -2.621595 -2.743221 -2.848696   \n",
       "129       1 -0.853866 -2.489415 -3.646334 -4.258130 -3.694179 -2.691938   \n",
       "2421      1  0.077462 -2.209479 -3.535134 -4.665829 -4.281586 -3.217774   \n",
       "3858      2 -0.398234 -1.604322 -2.574263 -3.281971 -3.160282 -2.788319   \n",
       "411       2  0.611928  0.282954  0.351850  0.455352  0.372982  0.199899   \n",
       "\n",
       "             7         8         9  ...       131       132       133  \\\n",
       "3977 -2.642509 -2.144997 -1.699626  ... -0.961985 -1.630911 -2.319958   \n",
       "129  -2.002917 -1.726384 -0.868932  ...  0.826330  1.113123  0.942545   \n",
       "2421 -2.010526 -1.510237 -1.312390  ...  0.842265  1.233373  0.865505   \n",
       "3858 -2.166766 -1.534808 -1.046323  ...  0.113387  0.144475 -0.057813   \n",
       "411   0.119206  0.146036  0.184410  ...  0.282043  0.234917  0.164288   \n",
       "\n",
       "           134       135       136       137       138       139       140  \n",
       "3977 -3.071662 -3.630929 -3.661980 -3.081851 -1.974048 -0.871374  0.153755  \n",
       "129   0.852835  0.636228  0.502006  0.475788  0.732305  1.424129  0.387357  \n",
       "2421  0.793086  0.442236 -0.134369 -0.003038  0.472147  0.978863 -0.661881  \n",
       "3858 -0.722754 -1.491745 -1.998754 -2.649831 -3.611137 -4.374202 -3.979222  \n",
       "411   0.216272  0.346861  0.305872  0.047970 -0.051511  0.451866  1.474301  \n",
       "\n",
       "[5 rows x 141 columns]"
      ]
     },
     "execution_count": 38,
     "metadata": {},
     "output_type": "execute_result"
    }
   ],
   "source": [
    "ecg5000_train.head()"
   ]
  },
  {
   "cell_type": "code",
   "execution_count": 8,
   "id": "30ef9163",
   "metadata": {},
   "outputs": [
    {
     "data": {
      "text/plain": [
       "[98, 402, 477, 482, 498]"
      ]
     },
     "execution_count": 8,
     "metadata": {},
     "output_type": "execute_result"
    }
   ],
   "source": [
    "sample_from_each_class = [ecg5000_train[ecg5000_train.Class == i].sample().index[0] for i in range(1, 6)]\n",
    "sample_from_each_class"
   ]
  },
  {
   "cell_type": "code",
   "execution_count": 10,
   "id": "b1587883",
   "metadata": {},
   "outputs": [
    {
     "data": {
      "image/png": "[encoded data removed]",
      "text/plain": [
       "<Figure size 432x288 with 1 Axes>"
      ]
     },
     "metadata": {
      "needs_background": "light"
     },
     "output_type": "display_data"
    }
   ],
   "source": [
    "plt.plot(ecg5000_train.T[98][1:])\n",
    "plt.plot(ecg5000_train.T[402][1:])\n",
    "plt.plot(ecg5000_train.T[477][1:])\n",
    "plt.plot(ecg5000_train.T[482][1:])\n",
    "plt.plot(ecg5000_train.T[498][1:])\n",
    "plt.legend([\"Class 1\", \"Class 2\", \"Class 3\", \"Class 4\", \"Class 5\"])\n",
    "plt.show()"
   ]
  },
  {
   "cell_type": "code",
   "execution_count": 40,
   "id": "4d08b992",
   "metadata": {},
   "outputs": [
    {
     "data": {
      "text/plain": [
       "1    58.175\n",
       "2    35.575\n",
       "4     3.900\n",
       "3     1.875\n",
       "5     0.475\n",
       "Name: Class, dtype: float64"
      ]
     },
     "execution_count": 40,
     "metadata": {},
     "output_type": "execute_result"
    }
   ],
   "source": [
    "ecg5000_train['Class'].value_counts(normalize=True) * 100"
   ]
  },
  {
   "cell_type": "markdown",
   "id": "2a5c67b8",
   "metadata": {},
   "source": [
    "# Training"
   ]
  },
  {
   "cell_type": "code",
   "execution_count": 41,
   "id": "36da92e2",
   "metadata": {},
   "outputs": [],
   "source": [
    "# Prepare the data - Scale\n",
    "X_train = TimeSeriesScalerMeanVariance(mu=0., std=1.).fit_transform(X_train)\n",
    "X_test = TimeSeriesScalerMeanVariance(mu=0., std=1.).fit_transform(X_test)"
   ]
  },
  {
   "cell_type": "code",
   "execution_count": 42,
   "id": "3dd996bc",
   "metadata": {},
   "outputs": [
    {
     "data": {
      "text/plain": [
       "KShape(n_clusters=5, n_init=10, random_state=2019, verbose=0)"
      ]
     },
     "execution_count": 42,
     "metadata": {},
     "output_type": "execute_result"
    }
   ],
   "source": [
    "# Train using k-Shape\n",
    "ks = KShape(n_clusters=5, max_iter=100, n_init=10, verbose=0, random_state=2019)\n",
    "ks.fit(X_train)"
   ]
  },
  {
   "cell_type": "markdown",
   "id": "f4968860",
   "metadata": {},
   "source": [
    "# Evaluation"
   ]
  },
  {
   "cell_type": "code",
   "execution_count": 43,
   "id": "1a7d26a4",
   "metadata": {},
   "outputs": [
    {
     "name": "stdout",
     "output_type": "stream",
     "text": [
      "Adjusted Rand Index: 0.5553639462811412\n"
     ]
    }
   ],
   "source": [
    "# Trainset\n",
    "y_pred = ks.predict(X_train)\n",
    "ars = adjusted_rand_score(ecg5000_train.iloc[:, 0], y_pred)\n",
    "print(\"Adjusted Rand Index:\", ars)"
   ]
  },
  {
   "cell_type": "code",
   "execution_count": 44,
   "id": "abff614d",
   "metadata": {},
   "outputs": [
    {
     "name": "stdout",
     "output_type": "stream",
     "text": [
      "Adjusted Rand Index: 0.5301670526070555\n"
     ]
    }
   ],
   "source": [
    "# Testset\n",
    "y_pred_test = ks.predict(X_test)\n",
    "ars = adjusted_rand_score(ecg5000_test.iloc[:, 0], y_pred_test)\n",
    "print(\"Adjusted Rand Index:\", ars)"
   ]
  },
  {
   "cell_type": "code",
   "execution_count": 50,
   "id": "d728af76",
   "metadata": {},
   "outputs": [],
   "source": [
    "homogeneity = ecg5000_test.copy()\n",
    "homogeneity['y_pred_test'] = y_pred_test"
   ]
  },
  {
   "cell_type": "code",
   "execution_count": 63,
   "id": "b10e9d82",
   "metadata": {},
   "outputs": [
    {
     "name": "stdout",
     "output_type": "stream",
     "text": [
      "Homogeneity of class 1\n",
      "4    74.662162\n",
      "3    21.959459\n",
      "1     3.040541\n",
      "2     0.337838\n",
      "Name: y_pred_test, dtype: float64\n",
      "\n",
      "Homogeneity of class 2\n",
      "1    57.267442\n",
      "0    36.918605\n",
      "2     5.232558\n",
      "3     0.290698\n",
      "4     0.290698\n",
      "Name: y_pred_test, dtype: float64\n",
      "\n",
      "Homogeneity of class 3\n",
      "0    42.857143\n",
      "4    19.047619\n",
      "1    14.285714\n",
      "3    14.285714\n",
      "2     9.523810\n",
      "Name: y_pred_test, dtype: float64\n",
      "\n",
      "Homogeneity of class 4\n",
      "2    47.368421\n",
      "1    23.684211\n",
      "0    15.789474\n",
      "4     7.894737\n",
      "3     5.263158\n",
      "Name: y_pred_test, dtype: float64\n",
      "\n",
      "Homogeneity of class 5\n",
      "2    60.0\n",
      "0    20.0\n",
      "3    20.0\n",
      "Name: y_pred_test, dtype: float64\n",
      "\n"
     ]
    }
   ],
   "source": [
    "for i in range(1, 6):\n",
    "    class_ = homogeneity[homogeneity.Class == i]\n",
    "    print(f\"Homogeneity of class {i}\")\n",
    "    print(class_.loc[:, 'y_pred_test'].value_counts()/len(class_) * 100)\n",
    "    print('')"
   ]
  },
  {
   "cell_type": "markdown",
   "id": "d084e67a",
   "metadata": {},
   "source": [
    "Although ARIs have improved by using a larger trainset, it's performance still varies significantly. "
   ]
  },
  {
   "cell_type": "code",
   "execution_count": 64,
   "id": "aa783faf",
   "metadata": {},
   "outputs": [
    {
     "data": {
      "text/plain": [
       "KShape(n_clusters=5, n_init=10, random_state=2000, verbose=0)"
      ]
     },
     "execution_count": 64,
     "metadata": {},
     "output_type": "execute_result"
    }
   ],
   "source": [
    "# Train using k-Shape\n",
    "ks = KShape(n_clusters=5, max_iter=100, n_init=10, verbose=0, random_state=2000)\n",
    "ks.fit(X_train)"
   ]
  },
  {
   "cell_type": "code",
   "execution_count": 65,
   "id": "d56dce19",
   "metadata": {},
   "outputs": [
    {
     "name": "stdout",
     "output_type": "stream",
     "text": [
      "Adjusted Rand Index: 0.7331781033218951\n"
     ]
    }
   ],
   "source": [
    "# Trainset\n",
    "y_pred = ks.predict(X_train)\n",
    "ars = adjusted_rand_score(ecg5000_train.iloc[:, 0], y_pred)\n",
    "print(\"Adjusted Rand Index:\", ars)"
   ]
  },
  {
   "cell_type": "code",
   "execution_count": 66,
   "id": "ad393c2d",
   "metadata": {},
   "outputs": [
    {
     "name": "stdout",
     "output_type": "stream",
     "text": [
      "Adjusted Rand Index: 0.7245987448244717\n"
     ]
    }
   ],
   "source": [
    "# Testset\n",
    "y_pred = ks.predict(X_test)\n",
    "ars = adjusted_rand_score(ecg5000_test.iloc[:, 0], y_pred)\n",
    "print(\"Adjusted Rand Index:\", ars)"
   ]
  },
  {
   "cell_type": "markdown",
   "id": "861c1ded",
   "metadata": {},
   "source": [
    "By altering its random seed, the performance on testset drastically changed."
   ]
  },
  {
   "cell_type": "markdown",
   "id": "c3ddcb5a",
   "metadata": {},
   "source": [
    "# KMeans"
   ]
  },
  {
   "cell_type": "code",
   "execution_count": 68,
   "id": "8377c252",
   "metadata": {},
   "outputs": [],
   "source": [
    "ecg5000_train = pd.read_csv(\"UCRArchive_2018/ECG5000/ECG5000_TRAIN.tsv\", sep='\\t', header=None)\n",
    "ecg5000_test = pd.read_csv(\"UCRArchive_2018/ECG5000/ECG5000_TEST.tsv\", sep='\\t', header=None)\n",
    "\n",
    "ecg5000_train.rename(columns={0:\"Class\"}, inplace=True)\n",
    "ecg5000_test.rename(columns={0:\"Class\"}, inplace=True)"
   ]
  },
  {
   "cell_type": "code",
   "execution_count": 69,
   "id": "d909b2fa",
   "metadata": {},
   "outputs": [],
   "source": [
    "df = pd.concat([ecg5000_train, ecg5000_test])\n",
    "ecg5000_train, ecg5000_test = train_test_split(df, test_size=0.2, random_state=2019)"
   ]
  },
  {
   "cell_type": "code",
   "execution_count": 74,
   "id": "5395d20f",
   "metadata": {},
   "outputs": [],
   "source": [
    "X_train = ecg5000_train.drop('Class', axis=1)\n",
    "y_train = ecg5000_train['Class']\n",
    "\n",
    "X_test = ecg5000_test.drop('Class', axis=1)\n",
    "y_test = ecg5000_test['Class']"
   ]
  },
  {
   "cell_type": "code",
   "execution_count": 81,
   "id": "350ee0a7",
   "metadata": {},
   "outputs": [
    {
     "data": {
      "text/plain": [
       "TimeSeriesKMeans(max_iter=100, n_clusters=5, n_init=100, random_state=2019)"
      ]
     },
     "execution_count": 81,
     "metadata": {},
     "output_type": "execute_result"
    }
   ],
   "source": [
    "# Train using Time Series k-Means\n",
    "km = TimeSeriesKMeans(n_clusters=5, max_iter=100, n_init=100, metric=\"euclidean\", random_state=2019)\n",
    "km.fit(X_train)"
   ]
  },
  {
   "cell_type": "code",
   "execution_count": 92,
   "id": "1a606370",
   "metadata": {},
   "outputs": [
    {
     "name": "stdout",
     "output_type": "stream",
     "text": [
      "Adjusted Rand Index on Training Set: 0.5063464656715959\n"
     ]
    }
   ],
   "source": [
    "# Predict on training set and evaluate using adjusted Rand index\n",
    "y_pred_train = km.predict(to_time_series_dataset(X_train))\n",
    "ars = adjusted_rand_score(ecg5000_train.iloc[:, 0], y_pred_train)\n",
    "print(\"Adjusted Rand Index on Training Set:\", ars)"
   ]
  },
  {
   "cell_type": "code",
   "execution_count": 93,
   "id": "ce0ba404",
   "metadata": {},
   "outputs": [
    {
     "name": "stdout",
     "output_type": "stream",
     "text": [
      "Adjusted Rand Index on Training Set: 0.4864981997585834\n"
     ]
    }
   ],
   "source": [
    "# Predict on test set and evaluate using adjusted Rand index\n",
    "y_pred_test = km.predict(to_time_series_dataset(X_test))\n",
    "ars = adjusted_rand_score(ecg5000_test.iloc[:, 0], y_pred_test)\n",
    "print(\"Adjusted Rand Index on Training Set:\", ars)"
   ]
  }
 ],
 "metadata": {
  "kernelspec": {
   "display_name": "myenv",
   "language": "python",
   "name": "myenv"
  },
  "language_info": {
   "codemirror_mode": {
    "name": "ipython",
    "version": 3
   },
   "file_extension": ".py",
   "mimetype": "text/x-python",
   "name": "python",
   "nbconvert_exporter": "python",
   "pygments_lexer": "ipython3",
   "version": "3.8.8"
  }
 },
 "nbformat": 4,
 "nbformat_minor": 5
}
